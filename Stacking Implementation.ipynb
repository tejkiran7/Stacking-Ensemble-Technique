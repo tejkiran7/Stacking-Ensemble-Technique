{
 "cells": [
  {
   "cell_type": "code",
   "execution_count": 13,
   "id": "aef9bc12",
   "metadata": {},
   "outputs": [],
   "source": [
    "from sklearn.tree import DecisionTreeRegressor\n",
    "from sklearn.ensemble import RandomForestClassifier, GradientBoostingRegressor\n",
    "from sklearn.linear_model import LinearRegression,LogisticRegression\n",
    "from sklearn.svm import LinearSVC\n",
    "from sklearn.neighbors import KNeighborsClassifier\n",
    "from sklearn.naive_bayes import GaussianNB\n",
    "from sklearn import model_selection\n",
    "\n",
    "#from sklearn.ensemble import StackingClassifier\n",
    "from mlxtend.classifier import StackingClassifier\n",
    "\n",
    "from sklearn.model_selection import train_test_split\n",
    "\n",
    "import warnings\n",
    "warnings.filterwarnings('ignore')"
   ]
  },
  {
   "cell_type": "code",
   "execution_count": 5,
   "id": "df53112a",
   "metadata": {},
   "outputs": [],
   "source": [
    "from sklearn import datasets\n",
    "\n",
    "iris = datasets.load_iris()\n",
    "\n",
    "X_train, X_val, y_train, y_val = train_test_split(iris.data, iris.target, test_size=0.2, random_state=42)"
   ]
  },
  {
   "cell_type": "code",
   "execution_count": 10,
   "id": "191d1226",
   "metadata": {},
   "outputs": [],
   "source": [
    "#Base models\n",
    "knn = KNeighborsClassifier(n_neighbors=3)\n",
    "\n",
    "rf = RandomForestClassifier(random_state=42)\n",
    "\n",
    "nb = GaussianNB()"
   ]
  },
  {
   "cell_type": "code",
   "execution_count": 11,
   "id": "cf6b9986",
   "metadata": {},
   "outputs": [],
   "source": [
    "#Defining meta model\n",
    "lr = LogisticRegression()"
   ]
  },
  {
   "cell_type": "code",
   "execution_count": 12,
   "id": "498f01be",
   "metadata": {},
   "outputs": [],
   "source": [
    "stackingclf = StackingClassifier(classifiers=[knn,rf,nb],meta_classifier=lr)"
   ]
  },
  {
   "cell_type": "code",
   "execution_count": 14,
   "id": "7b0cc362",
   "metadata": {},
   "outputs": [
    {
     "name": "stdout",
     "output_type": "stream",
     "text": [
      "Doing 3-fold Cross Validation here:\n",
      "\n",
      "Accuracy 0.950 (+/- 0.020) [KNeighborsClassifier Model]\n",
      "Accuracy 0.950 (+/- 0.035) [RandomForestClassifier Model]\n",
      "Accuracy 0.942 (+/- 0.031) [GaussianNB Model]\n",
      "Accuracy 0.950 (+/- 0.035) [Stacking Classifier Model]\n"
     ]
    }
   ],
   "source": [
    "print(\"Doing 3-fold Cross Validation here:\\n\")\n",
    "\n",
    "for iterclf,iterlabel in zip([knn,rf,nb,stackingclf],\n",
    "                            ['KNeighborsClassifier Model',\n",
    "                            'RandomForestClassifier Model',\n",
    "                            'GaussianNB Model',\n",
    "                            'Stacking Classifier Model']):\n",
    "    scores = model_selection.cross_val_score(iterclf,X_train,y_train,cv=3,scoring='accuracy')\n",
    "    print(\"Accuracy %0.3f (+/- %0.3f) [%s]\"\n",
    "         % (scores.mean(), scores.std(), iterlabel))"
   ]
  },
  {
   "cell_type": "code",
   "execution_count": 18,
   "id": "113551de",
   "metadata": {},
   "outputs": [
    {
     "data": {
      "text/plain": [
       "StackingClassifier(classifiers=[KNeighborsClassifier(n_neighbors=3),\n",
       "                                RandomForestClassifier(random_state=42),\n",
       "                                GaussianNB()],\n",
       "                   meta_classifier=LogisticRegression())"
      ]
     },
     "execution_count": 18,
     "metadata": {},
     "output_type": "execute_result"
    }
   ],
   "source": [
    "stackingclf.fit(X_train,y_train)"
   ]
  },
  {
   "cell_type": "code",
   "execution_count": 22,
   "id": "0625d79f",
   "metadata": {},
   "outputs": [],
   "source": [
    "y_pred = stackingclf.predict(X_val)"
   ]
  },
  {
   "cell_type": "code",
   "execution_count": 23,
   "id": "b5e01d6d",
   "metadata": {},
   "outputs": [
    {
     "name": "stdout",
     "output_type": "stream",
     "text": [
      "              precision    recall  f1-score   support\n",
      "\n",
      "           0       1.00      1.00      1.00        10\n",
      "           1       1.00      1.00      1.00         9\n",
      "           2       1.00      1.00      1.00        11\n",
      "\n",
      "    accuracy                           1.00        30\n",
      "   macro avg       1.00      1.00      1.00        30\n",
      "weighted avg       1.00      1.00      1.00        30\n",
      "\n"
     ]
    }
   ],
   "source": [
    "from sklearn.metrics import classification_report\n",
    "print(classification_report(y_pred,y_val))"
   ]
  },
  {
   "cell_type": "code",
   "execution_count": null,
   "id": "15fc0a1b",
   "metadata": {},
   "outputs": [],
   "source": []
  }
 ],
 "metadata": {
  "kernelspec": {
   "display_name": "Python 3 (ipykernel)",
   "language": "python",
   "name": "python3"
  },
  "language_info": {
   "codemirror_mode": {
    "name": "ipython",
    "version": 3
   },
   "file_extension": ".py",
   "mimetype": "text/x-python",
   "name": "python",
   "nbconvert_exporter": "python",
   "pygments_lexer": "ipython3",
   "version": "3.9.13"
  }
 },
 "nbformat": 4,
 "nbformat_minor": 5
}
