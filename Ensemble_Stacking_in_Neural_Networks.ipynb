{
 "cells": [
  {
   "cell_type": "code",
   "execution_count": 5,
   "metadata": {
    "id": "jUHUoanqkM5_"
   },
   "outputs": [],
   "source": [
    "from sklearn import datasets\n",
    "from sklearn.linear_model import LinearRegression\n",
    "from keras.callbacks import EarlyStopping\n",
    "from keras import backend as K\n",
    "import matplotlib.pyplot as plt\n",
    "from sklearn.model_selection import train_test_split\n",
    "import pandas as pd\n",
    "from tensorflow.keras.models import Sequential,load_model\n",
    "from tensorflow.keras.layers import Dense,Dropout\n",
    "from numpy import dstack\n",
    "from sklearn.linear_model import LogisticRegression"
   ]
  },
  {
   "cell_type": "code",
   "execution_count": 6,
   "metadata": {
    "id": "ftPZtWDR5eoN"
   },
   "outputs": [],
   "source": [
    "df = pd.read_csv(r\"C:\\Users\\TEJKIRAN\\Desktop\\DataAnalytics_files\\Churn_Modelling.csv\")"
   ]
  },
  {
   "cell_type": "code",
   "execution_count": 7,
   "metadata": {
    "colab": {
     "base_uri": "https://localhost:8080/",
     "height": 226
    },
    "id": "-ipZ0ugi5jik",
    "outputId": "f01a54d6-255e-4141-a31c-ab62a3cb05c5"
   },
   "outputs": [
    {
     "data": {
      "text/html": [
       "<div>\n",
       "<style scoped>\n",
       "    .dataframe tbody tr th:only-of-type {\n",
       "        vertical-align: middle;\n",
       "    }\n",
       "\n",
       "    .dataframe tbody tr th {\n",
       "        vertical-align: top;\n",
       "    }\n",
       "\n",
       "    .dataframe thead th {\n",
       "        text-align: right;\n",
       "    }\n",
       "</style>\n",
       "<table border=\"1\" class=\"dataframe\">\n",
       "  <thead>\n",
       "    <tr style=\"text-align: right;\">\n",
       "      <th></th>\n",
       "      <th>RowNumber</th>\n",
       "      <th>CustomerId</th>\n",
       "      <th>Surname</th>\n",
       "      <th>CreditScore</th>\n",
       "      <th>Geography</th>\n",
       "      <th>Gender</th>\n",
       "      <th>Age</th>\n",
       "      <th>Tenure</th>\n",
       "      <th>Balance</th>\n",
       "      <th>NumOfProducts</th>\n",
       "      <th>HasCrCard</th>\n",
       "      <th>IsActiveMember</th>\n",
       "      <th>EstimatedSalary</th>\n",
       "      <th>Exited</th>\n",
       "    </tr>\n",
       "  </thead>\n",
       "  <tbody>\n",
       "    <tr>\n",
       "      <th>0</th>\n",
       "      <td>1</td>\n",
       "      <td>15634602</td>\n",
       "      <td>Hargrave</td>\n",
       "      <td>619</td>\n",
       "      <td>France</td>\n",
       "      <td>Female</td>\n",
       "      <td>42</td>\n",
       "      <td>2</td>\n",
       "      <td>0.00</td>\n",
       "      <td>1</td>\n",
       "      <td>1</td>\n",
       "      <td>1</td>\n",
       "      <td>101348.88</td>\n",
       "      <td>1</td>\n",
       "    </tr>\n",
       "    <tr>\n",
       "      <th>1</th>\n",
       "      <td>2</td>\n",
       "      <td>15647311</td>\n",
       "      <td>Hill</td>\n",
       "      <td>608</td>\n",
       "      <td>Spain</td>\n",
       "      <td>Female</td>\n",
       "      <td>41</td>\n",
       "      <td>1</td>\n",
       "      <td>83807.86</td>\n",
       "      <td>1</td>\n",
       "      <td>0</td>\n",
       "      <td>1</td>\n",
       "      <td>112542.58</td>\n",
       "      <td>0</td>\n",
       "    </tr>\n",
       "    <tr>\n",
       "      <th>2</th>\n",
       "      <td>3</td>\n",
       "      <td>15619304</td>\n",
       "      <td>Onio</td>\n",
       "      <td>502</td>\n",
       "      <td>France</td>\n",
       "      <td>Female</td>\n",
       "      <td>42</td>\n",
       "      <td>8</td>\n",
       "      <td>159660.80</td>\n",
       "      <td>3</td>\n",
       "      <td>1</td>\n",
       "      <td>0</td>\n",
       "      <td>113931.57</td>\n",
       "      <td>1</td>\n",
       "    </tr>\n",
       "    <tr>\n",
       "      <th>3</th>\n",
       "      <td>4</td>\n",
       "      <td>15701354</td>\n",
       "      <td>Boni</td>\n",
       "      <td>699</td>\n",
       "      <td>France</td>\n",
       "      <td>Female</td>\n",
       "      <td>39</td>\n",
       "      <td>1</td>\n",
       "      <td>0.00</td>\n",
       "      <td>2</td>\n",
       "      <td>0</td>\n",
       "      <td>0</td>\n",
       "      <td>93826.63</td>\n",
       "      <td>0</td>\n",
       "    </tr>\n",
       "    <tr>\n",
       "      <th>4</th>\n",
       "      <td>5</td>\n",
       "      <td>15737888</td>\n",
       "      <td>Mitchell</td>\n",
       "      <td>850</td>\n",
       "      <td>Spain</td>\n",
       "      <td>Female</td>\n",
       "      <td>43</td>\n",
       "      <td>2</td>\n",
       "      <td>125510.82</td>\n",
       "      <td>1</td>\n",
       "      <td>1</td>\n",
       "      <td>1</td>\n",
       "      <td>79084.10</td>\n",
       "      <td>0</td>\n",
       "    </tr>\n",
       "  </tbody>\n",
       "</table>\n",
       "</div>"
      ],
      "text/plain": [
       "   RowNumber  CustomerId   Surname  CreditScore Geography  Gender  Age  \\\n",
       "0          1    15634602  Hargrave          619    France  Female   42   \n",
       "1          2    15647311      Hill          608     Spain  Female   41   \n",
       "2          3    15619304      Onio          502    France  Female   42   \n",
       "3          4    15701354      Boni          699    France  Female   39   \n",
       "4          5    15737888  Mitchell          850     Spain  Female   43   \n",
       "\n",
       "   Tenure    Balance  NumOfProducts  HasCrCard  IsActiveMember  \\\n",
       "0       2       0.00              1          1               1   \n",
       "1       1   83807.86              1          0               1   \n",
       "2       8  159660.80              3          1               0   \n",
       "3       1       0.00              2          0               0   \n",
       "4       2  125510.82              1          1               1   \n",
       "\n",
       "   EstimatedSalary  Exited  \n",
       "0        101348.88       1  \n",
       "1        112542.58       0  \n",
       "2        113931.57       1  \n",
       "3         93826.63       0  \n",
       "4         79084.10       0  "
      ]
     },
     "execution_count": 7,
     "metadata": {},
     "output_type": "execute_result"
    }
   ],
   "source": [
    "df.head()"
   ]
  },
  {
   "cell_type": "markdown",
   "metadata": {
    "id": "YNJx9TG1FBHh"
   },
   "source": [
    "This data set contains details of a bank's customers and the target variable is a binary variable reflecting the fact whether the customer left the bank (closed his account) or he continues to be a customer."
   ]
  },
  {
   "cell_type": "code",
   "execution_count": 8,
   "metadata": {
    "colab": {
     "base_uri": "https://localhost:8080/"
    },
    "id": "LAf9airmE5y1",
    "outputId": "c90c9bb0-284f-4348-aa76-bded0befb5ac"
   },
   "outputs": [
    {
     "name": "stdout",
     "output_type": "stream",
     "text": [
      "<class 'pandas.core.frame.DataFrame'>\n",
      "RangeIndex: 10000 entries, 0 to 9999\n",
      "Data columns (total 14 columns):\n",
      " #   Column           Non-Null Count  Dtype  \n",
      "---  ------           --------------  -----  \n",
      " 0   RowNumber        10000 non-null  int64  \n",
      " 1   CustomerId       10000 non-null  int64  \n",
      " 2   Surname          10000 non-null  object \n",
      " 3   CreditScore      10000 non-null  int64  \n",
      " 4   Geography        10000 non-null  object \n",
      " 5   Gender           10000 non-null  object \n",
      " 6   Age              10000 non-null  int64  \n",
      " 7   Tenure           10000 non-null  int64  \n",
      " 8   Balance          10000 non-null  float64\n",
      " 9   NumOfProducts    10000 non-null  int64  \n",
      " 10  HasCrCard        10000 non-null  int64  \n",
      " 11  IsActiveMember   10000 non-null  int64  \n",
      " 12  EstimatedSalary  10000 non-null  float64\n",
      " 13  Exited           10000 non-null  int64  \n",
      "dtypes: float64(2), int64(9), object(3)\n",
      "memory usage: 1.1+ MB\n"
     ]
    }
   ],
   "source": [
    "df.info()"
   ]
  },
  {
   "cell_type": "markdown",
   "metadata": {
    "id": "D7B_BTSSGAQV"
   },
   "source": [
    "There are 3 features with string values."
   ]
  },
  {
   "cell_type": "code",
   "execution_count": 9,
   "metadata": {
    "colab": {
     "base_uri": "https://localhost:8080/"
    },
    "id": "MgLCF3amF6w4",
    "outputId": "bbf1e1a2-3cc2-4a84-cbee-dbbcc0d77122"
   },
   "outputs": [
    {
     "data": {
      "text/plain": [
       "RowNumber          0\n",
       "CustomerId         0\n",
       "Surname            0\n",
       "CreditScore        0\n",
       "Geography          0\n",
       "Gender             0\n",
       "Age                0\n",
       "Tenure             0\n",
       "Balance            0\n",
       "NumOfProducts      0\n",
       "HasCrCard          0\n",
       "IsActiveMember     0\n",
       "EstimatedSalary    0\n",
       "Exited             0\n",
       "dtype: int64"
      ]
     },
     "execution_count": 9,
     "metadata": {},
     "output_type": "execute_result"
    }
   ],
   "source": [
    "df.isnull().sum()"
   ]
  },
  {
   "cell_type": "markdown",
   "metadata": {
    "id": "U5aZMSNpGUBs"
   },
   "source": [
    "Dataset is free of null values."
   ]
  },
  {
   "cell_type": "code",
   "execution_count": 10,
   "metadata": {
    "colab": {
     "base_uri": "https://localhost:8080/"
    },
    "id": "cPa3MDBlGQ9S",
    "outputId": "ef19ca8e-b0cb-4f80-dff3-2bbdd0cb4d0e"
   },
   "outputs": [
    {
     "data": {
      "text/plain": [
       "France     5014\n",
       "Germany    2509\n",
       "Spain      2477\n",
       "Name: Geography, dtype: int64"
      ]
     },
     "execution_count": 10,
     "metadata": {},
     "output_type": "execute_result"
    }
   ],
   "source": [
    "df['Geography'].value_counts()"
   ]
  },
  {
   "cell_type": "markdown",
   "metadata": {
    "id": "RdiQD8_0NkBD"
   },
   "source": [
    "Since the number of countries is less and also their is no rank which can be associated with the customers of different region. Hence we use one hot encodding."
   ]
  },
  {
   "cell_type": "code",
   "execution_count": 11,
   "metadata": {
    "id": "qlbVSJkxNjOf"
   },
   "outputs": [],
   "source": [
    "#One hot encodding\n",
    "geo = pd.get_dummies(df['Geography'],drop_first = True)\n",
    "gen = pd.get_dummies(df['Gender'],drop_first= True)\n",
    "df = pd.concat([df,gen,geo],axis=1)"
   ]
  },
  {
   "cell_type": "code",
   "execution_count": 12,
   "metadata": {
    "id": "IKYqTAtaNgBG"
   },
   "outputs": [],
   "source": [
    "#Drop unnecessary data\n",
    "df.drop(['Geography','Gender','Surname','RowNumber','CustomerId'],axis=1,inplace = True)"
   ]
  },
  {
   "cell_type": "code",
   "execution_count": 13,
   "metadata": {
    "colab": {
     "base_uri": "https://localhost:8080/",
     "height": 443
    },
    "id": "uc5KeAVxZoo1",
    "outputId": "f50254db-35a9-4b3e-8d38-c699e1b33951"
   },
   "outputs": [
    {
     "data": {
      "text/html": [
       "<div>\n",
       "<style scoped>\n",
       "    .dataframe tbody tr th:only-of-type {\n",
       "        vertical-align: middle;\n",
       "    }\n",
       "\n",
       "    .dataframe tbody tr th {\n",
       "        vertical-align: top;\n",
       "    }\n",
       "\n",
       "    .dataframe thead th {\n",
       "        text-align: right;\n",
       "    }\n",
       "</style>\n",
       "<table border=\"1\" class=\"dataframe\">\n",
       "  <thead>\n",
       "    <tr style=\"text-align: right;\">\n",
       "      <th></th>\n",
       "      <th>CreditScore</th>\n",
       "      <th>Age</th>\n",
       "      <th>Tenure</th>\n",
       "      <th>Balance</th>\n",
       "      <th>NumOfProducts</th>\n",
       "      <th>HasCrCard</th>\n",
       "      <th>IsActiveMember</th>\n",
       "      <th>EstimatedSalary</th>\n",
       "      <th>Exited</th>\n",
       "      <th>Male</th>\n",
       "      <th>Germany</th>\n",
       "      <th>Spain</th>\n",
       "    </tr>\n",
       "  </thead>\n",
       "  <tbody>\n",
       "    <tr>\n",
       "      <th>0</th>\n",
       "      <td>619</td>\n",
       "      <td>42</td>\n",
       "      <td>2</td>\n",
       "      <td>0.00</td>\n",
       "      <td>1</td>\n",
       "      <td>1</td>\n",
       "      <td>1</td>\n",
       "      <td>101348.88</td>\n",
       "      <td>1</td>\n",
       "      <td>0</td>\n",
       "      <td>0</td>\n",
       "      <td>0</td>\n",
       "    </tr>\n",
       "    <tr>\n",
       "      <th>1</th>\n",
       "      <td>608</td>\n",
       "      <td>41</td>\n",
       "      <td>1</td>\n",
       "      <td>83807.86</td>\n",
       "      <td>1</td>\n",
       "      <td>0</td>\n",
       "      <td>1</td>\n",
       "      <td>112542.58</td>\n",
       "      <td>0</td>\n",
       "      <td>0</td>\n",
       "      <td>0</td>\n",
       "      <td>1</td>\n",
       "    </tr>\n",
       "    <tr>\n",
       "      <th>2</th>\n",
       "      <td>502</td>\n",
       "      <td>42</td>\n",
       "      <td>8</td>\n",
       "      <td>159660.80</td>\n",
       "      <td>3</td>\n",
       "      <td>1</td>\n",
       "      <td>0</td>\n",
       "      <td>113931.57</td>\n",
       "      <td>1</td>\n",
       "      <td>0</td>\n",
       "      <td>0</td>\n",
       "      <td>0</td>\n",
       "    </tr>\n",
       "    <tr>\n",
       "      <th>3</th>\n",
       "      <td>699</td>\n",
       "      <td>39</td>\n",
       "      <td>1</td>\n",
       "      <td>0.00</td>\n",
       "      <td>2</td>\n",
       "      <td>0</td>\n",
       "      <td>0</td>\n",
       "      <td>93826.63</td>\n",
       "      <td>0</td>\n",
       "      <td>0</td>\n",
       "      <td>0</td>\n",
       "      <td>0</td>\n",
       "    </tr>\n",
       "    <tr>\n",
       "      <th>4</th>\n",
       "      <td>850</td>\n",
       "      <td>43</td>\n",
       "      <td>2</td>\n",
       "      <td>125510.82</td>\n",
       "      <td>1</td>\n",
       "      <td>1</td>\n",
       "      <td>1</td>\n",
       "      <td>79084.10</td>\n",
       "      <td>0</td>\n",
       "      <td>0</td>\n",
       "      <td>0</td>\n",
       "      <td>1</td>\n",
       "    </tr>\n",
       "    <tr>\n",
       "      <th>...</th>\n",
       "      <td>...</td>\n",
       "      <td>...</td>\n",
       "      <td>...</td>\n",
       "      <td>...</td>\n",
       "      <td>...</td>\n",
       "      <td>...</td>\n",
       "      <td>...</td>\n",
       "      <td>...</td>\n",
       "      <td>...</td>\n",
       "      <td>...</td>\n",
       "      <td>...</td>\n",
       "      <td>...</td>\n",
       "    </tr>\n",
       "    <tr>\n",
       "      <th>9995</th>\n",
       "      <td>771</td>\n",
       "      <td>39</td>\n",
       "      <td>5</td>\n",
       "      <td>0.00</td>\n",
       "      <td>2</td>\n",
       "      <td>1</td>\n",
       "      <td>0</td>\n",
       "      <td>96270.64</td>\n",
       "      <td>0</td>\n",
       "      <td>1</td>\n",
       "      <td>0</td>\n",
       "      <td>0</td>\n",
       "    </tr>\n",
       "    <tr>\n",
       "      <th>9996</th>\n",
       "      <td>516</td>\n",
       "      <td>35</td>\n",
       "      <td>10</td>\n",
       "      <td>57369.61</td>\n",
       "      <td>1</td>\n",
       "      <td>1</td>\n",
       "      <td>1</td>\n",
       "      <td>101699.77</td>\n",
       "      <td>0</td>\n",
       "      <td>1</td>\n",
       "      <td>0</td>\n",
       "      <td>0</td>\n",
       "    </tr>\n",
       "    <tr>\n",
       "      <th>9997</th>\n",
       "      <td>709</td>\n",
       "      <td>36</td>\n",
       "      <td>7</td>\n",
       "      <td>0.00</td>\n",
       "      <td>1</td>\n",
       "      <td>0</td>\n",
       "      <td>1</td>\n",
       "      <td>42085.58</td>\n",
       "      <td>1</td>\n",
       "      <td>0</td>\n",
       "      <td>0</td>\n",
       "      <td>0</td>\n",
       "    </tr>\n",
       "    <tr>\n",
       "      <th>9998</th>\n",
       "      <td>772</td>\n",
       "      <td>42</td>\n",
       "      <td>3</td>\n",
       "      <td>75075.31</td>\n",
       "      <td>2</td>\n",
       "      <td>1</td>\n",
       "      <td>0</td>\n",
       "      <td>92888.52</td>\n",
       "      <td>1</td>\n",
       "      <td>1</td>\n",
       "      <td>1</td>\n",
       "      <td>0</td>\n",
       "    </tr>\n",
       "    <tr>\n",
       "      <th>9999</th>\n",
       "      <td>792</td>\n",
       "      <td>28</td>\n",
       "      <td>4</td>\n",
       "      <td>130142.79</td>\n",
       "      <td>1</td>\n",
       "      <td>1</td>\n",
       "      <td>0</td>\n",
       "      <td>38190.78</td>\n",
       "      <td>0</td>\n",
       "      <td>0</td>\n",
       "      <td>0</td>\n",
       "      <td>0</td>\n",
       "    </tr>\n",
       "  </tbody>\n",
       "</table>\n",
       "<p>10000 rows × 12 columns</p>\n",
       "</div>"
      ],
      "text/plain": [
       "      CreditScore  Age  Tenure    Balance  NumOfProducts  HasCrCard  \\\n",
       "0             619   42       2       0.00              1          1   \n",
       "1             608   41       1   83807.86              1          0   \n",
       "2             502   42       8  159660.80              3          1   \n",
       "3             699   39       1       0.00              2          0   \n",
       "4             850   43       2  125510.82              1          1   \n",
       "...           ...  ...     ...        ...            ...        ...   \n",
       "9995          771   39       5       0.00              2          1   \n",
       "9996          516   35      10   57369.61              1          1   \n",
       "9997          709   36       7       0.00              1          0   \n",
       "9998          772   42       3   75075.31              2          1   \n",
       "9999          792   28       4  130142.79              1          1   \n",
       "\n",
       "      IsActiveMember  EstimatedSalary  Exited  Male  Germany  Spain  \n",
       "0                  1        101348.88       1     0        0      0  \n",
       "1                  1        112542.58       0     0        0      1  \n",
       "2                  0        113931.57       1     0        0      0  \n",
       "3                  0         93826.63       0     0        0      0  \n",
       "4                  1         79084.10       0     0        0      1  \n",
       "...              ...              ...     ...   ...      ...    ...  \n",
       "9995               0         96270.64       0     1        0      0  \n",
       "9996               1        101699.77       0     1        0      0  \n",
       "9997               1         42085.58       1     0        0      0  \n",
       "9998               0         92888.52       1     1        1      0  \n",
       "9999               0         38190.78       0     0        0      0  \n",
       "\n",
       "[10000 rows x 12 columns]"
      ]
     },
     "execution_count": 13,
     "metadata": {},
     "output_type": "execute_result"
    }
   ],
   "source": [
    "df"
   ]
  },
  {
   "cell_type": "markdown",
   "metadata": {
    "id": "MJ2PL7DQgJbB"
   },
   "source": [
    "We need to do data normalization before we send the data to train a neural network model."
   ]
  },
  {
   "cell_type": "code",
   "execution_count": 14,
   "metadata": {
    "id": "OzEwSxbVgIqT"
   },
   "outputs": [],
   "source": [
    "from sklearn.preprocessing import MinMaxScaler"
   ]
  },
  {
   "cell_type": "code",
   "execution_count": 15,
   "metadata": {
    "id": "xzrBthVrjq2r"
   },
   "outputs": [],
   "source": [
    "X = df.drop('Exited',axis=1)\n",
    "y = df['Exited']"
   ]
  },
  {
   "cell_type": "code",
   "execution_count": 16,
   "metadata": {
    "id": "cL6235e1Z4ZL"
   },
   "outputs": [],
   "source": [
    "#normalization\n",
    "scaler = MinMaxScaler()\n",
    "X_scaled = scaler.fit_transform(X)"
   ]
  },
  {
   "cell_type": "code",
   "execution_count": 17,
   "metadata": {
    "colab": {
     "base_uri": "https://localhost:8080/"
    },
    "id": "YH396zpClb47",
    "outputId": "39d03a59-d68a-456b-977e-6328afcf21b1"
   },
   "outputs": [
    {
     "data": {
      "text/plain": [
       "array([[0.538     , 0.32432432, 0.2       , ..., 0.        , 0.        ,\n",
       "        0.        ],\n",
       "       [0.516     , 0.31081081, 0.1       , ..., 0.        , 0.        ,\n",
       "        1.        ],\n",
       "       [0.304     , 0.32432432, 0.8       , ..., 0.        , 0.        ,\n",
       "        0.        ],\n",
       "       ...,\n",
       "       [0.718     , 0.24324324, 0.7       , ..., 0.        , 0.        ,\n",
       "        0.        ],\n",
       "       [0.844     , 0.32432432, 0.3       , ..., 1.        , 1.        ,\n",
       "        0.        ],\n",
       "       [0.884     , 0.13513514, 0.4       , ..., 0.        , 0.        ,\n",
       "        0.        ]])"
      ]
     },
     "execution_count": 17,
     "metadata": {},
     "output_type": "execute_result"
    }
   ],
   "source": [
    "X_scaled"
   ]
  },
  {
   "cell_type": "code",
   "execution_count": 18,
   "metadata": {
    "colab": {
     "base_uri": "https://localhost:8080/",
     "height": 32
    },
    "id": "4qpJweOYl9Pc",
    "outputId": "0eb5c210-d755-49f7-ce07-21ae6b2242fa"
   },
   "outputs": [
    {
     "data": {
      "text/html": [
       "<div>\n",
       "<style scoped>\n",
       "    .dataframe tbody tr th:only-of-type {\n",
       "        vertical-align: middle;\n",
       "    }\n",
       "\n",
       "    .dataframe tbody tr th {\n",
       "        vertical-align: top;\n",
       "    }\n",
       "\n",
       "    .dataframe thead th {\n",
       "        text-align: right;\n",
       "    }\n",
       "</style>\n",
       "<table border=\"1\" class=\"dataframe\">\n",
       "  <thead>\n",
       "    <tr style=\"text-align: right;\">\n",
       "      <th></th>\n",
       "    </tr>\n",
       "  </thead>\n",
       "  <tbody>\n",
       "  </tbody>\n",
       "</table>\n",
       "</div>"
      ],
      "text/plain": [
       "Empty DataFrame\n",
       "Columns: []\n",
       "Index: []"
      ]
     },
     "execution_count": 18,
     "metadata": {},
     "output_type": "execute_result"
    }
   ],
   "source": [
    "pd.DataFrame( )"
   ]
  },
  {
   "cell_type": "code",
   "execution_count": 19,
   "metadata": {
    "id": "dn7uajLulc6d"
   },
   "outputs": [],
   "source": [
    "X_final = pd.DataFrame(columns = ['CreditScore','Age','Tenure','Balance','NumOfProducts','HasCrCard','IsActiveMember','EstimatedSalary','Male','Germany','Spain'],data = X_scaled)"
   ]
  },
  {
   "cell_type": "code",
   "execution_count": 20,
   "metadata": {
    "colab": {
     "base_uri": "https://localhost:8080/",
     "height": 226
    },
    "id": "OvFmFWbtoROc",
    "outputId": "673ffe5f-df52-4cbc-edc7-9d594ea39141"
   },
   "outputs": [
    {
     "data": {
      "text/html": [
       "<div>\n",
       "<style scoped>\n",
       "    .dataframe tbody tr th:only-of-type {\n",
       "        vertical-align: middle;\n",
       "    }\n",
       "\n",
       "    .dataframe tbody tr th {\n",
       "        vertical-align: top;\n",
       "    }\n",
       "\n",
       "    .dataframe thead th {\n",
       "        text-align: right;\n",
       "    }\n",
       "</style>\n",
       "<table border=\"1\" class=\"dataframe\">\n",
       "  <thead>\n",
       "    <tr style=\"text-align: right;\">\n",
       "      <th></th>\n",
       "      <th>CreditScore</th>\n",
       "      <th>Age</th>\n",
       "      <th>Tenure</th>\n",
       "      <th>Balance</th>\n",
       "      <th>NumOfProducts</th>\n",
       "      <th>HasCrCard</th>\n",
       "      <th>IsActiveMember</th>\n",
       "      <th>EstimatedSalary</th>\n",
       "      <th>Male</th>\n",
       "      <th>Germany</th>\n",
       "      <th>Spain</th>\n",
       "    </tr>\n",
       "  </thead>\n",
       "  <tbody>\n",
       "    <tr>\n",
       "      <th>0</th>\n",
       "      <td>0.538</td>\n",
       "      <td>0.324324</td>\n",
       "      <td>0.2</td>\n",
       "      <td>0.000000</td>\n",
       "      <td>0.000000</td>\n",
       "      <td>1.0</td>\n",
       "      <td>1.0</td>\n",
       "      <td>0.506735</td>\n",
       "      <td>0.0</td>\n",
       "      <td>0.0</td>\n",
       "      <td>0.0</td>\n",
       "    </tr>\n",
       "    <tr>\n",
       "      <th>1</th>\n",
       "      <td>0.516</td>\n",
       "      <td>0.310811</td>\n",
       "      <td>0.1</td>\n",
       "      <td>0.334031</td>\n",
       "      <td>0.000000</td>\n",
       "      <td>0.0</td>\n",
       "      <td>1.0</td>\n",
       "      <td>0.562709</td>\n",
       "      <td>0.0</td>\n",
       "      <td>0.0</td>\n",
       "      <td>1.0</td>\n",
       "    </tr>\n",
       "    <tr>\n",
       "      <th>2</th>\n",
       "      <td>0.304</td>\n",
       "      <td>0.324324</td>\n",
       "      <td>0.8</td>\n",
       "      <td>0.636357</td>\n",
       "      <td>0.666667</td>\n",
       "      <td>1.0</td>\n",
       "      <td>0.0</td>\n",
       "      <td>0.569654</td>\n",
       "      <td>0.0</td>\n",
       "      <td>0.0</td>\n",
       "      <td>0.0</td>\n",
       "    </tr>\n",
       "    <tr>\n",
       "      <th>3</th>\n",
       "      <td>0.698</td>\n",
       "      <td>0.283784</td>\n",
       "      <td>0.1</td>\n",
       "      <td>0.000000</td>\n",
       "      <td>0.333333</td>\n",
       "      <td>0.0</td>\n",
       "      <td>0.0</td>\n",
       "      <td>0.469120</td>\n",
       "      <td>0.0</td>\n",
       "      <td>0.0</td>\n",
       "      <td>0.0</td>\n",
       "    </tr>\n",
       "    <tr>\n",
       "      <th>4</th>\n",
       "      <td>1.000</td>\n",
       "      <td>0.337838</td>\n",
       "      <td>0.2</td>\n",
       "      <td>0.500246</td>\n",
       "      <td>0.000000</td>\n",
       "      <td>1.0</td>\n",
       "      <td>1.0</td>\n",
       "      <td>0.395400</td>\n",
       "      <td>0.0</td>\n",
       "      <td>0.0</td>\n",
       "      <td>1.0</td>\n",
       "    </tr>\n",
       "  </tbody>\n",
       "</table>\n",
       "</div>"
      ],
      "text/plain": [
       "   CreditScore       Age  Tenure   Balance  NumOfProducts  HasCrCard  \\\n",
       "0        0.538  0.324324     0.2  0.000000       0.000000        1.0   \n",
       "1        0.516  0.310811     0.1  0.334031       0.000000        0.0   \n",
       "2        0.304  0.324324     0.8  0.636357       0.666667        1.0   \n",
       "3        0.698  0.283784     0.1  0.000000       0.333333        0.0   \n",
       "4        1.000  0.337838     0.2  0.500246       0.000000        1.0   \n",
       "\n",
       "   IsActiveMember  EstimatedSalary  Male  Germany  Spain  \n",
       "0             1.0         0.506735   0.0      0.0    0.0  \n",
       "1             1.0         0.562709   0.0      0.0    1.0  \n",
       "2             0.0         0.569654   0.0      0.0    0.0  \n",
       "3             0.0         0.469120   0.0      0.0    0.0  \n",
       "4             1.0         0.395400   0.0      0.0    1.0  "
      ]
     },
     "execution_count": 20,
     "metadata": {},
     "output_type": "execute_result"
    }
   ],
   "source": [
    "X_final.head()"
   ]
  },
  {
   "cell_type": "code",
   "execution_count": 21,
   "metadata": {
    "id": "89We30gGujfh"
   },
   "outputs": [],
   "source": [
    "#train-test-split\n",
    "X_train,X_test,y_train,y_test = train_test_split(X_final,y,test_size = 0.30,random_state = 101)"
   ]
  },
  {
   "cell_type": "markdown",
   "metadata": {
    "id": "W5RXTOsyoanj"
   },
   "source": [
    "Modeling"
   ]
  },
  {
   "cell_type": "markdown",
   "metadata": {
    "id": "qJZhdfxMol4e"
   },
   "source": [
    "Lets create 3 neural networks to stack further."
   ]
  },
  {
   "cell_type": "code",
   "execution_count": 22,
   "metadata": {
    "id": "nKGn1eRGoSTO"
   },
   "outputs": [],
   "source": [
    "model1 = Sequential()\n",
    "model1.add(Dense(50,activation = 'relu',input_dim = 11))\n",
    "model1.add(Dense(25,activation = 'relu'))\n",
    "model1.add(Dense(1,activation = 'sigmoid'))"
   ]
  },
  {
   "cell_type": "code",
   "execution_count": 23,
   "metadata": {
    "colab": {
     "base_uri": "https://localhost:8080/"
    },
    "id": "mncGzV0bpe0k",
    "outputId": "769b8bd5-4567-49ee-d0b5-1bbd6b4cad62"
   },
   "outputs": [
    {
     "name": "stdout",
     "output_type": "stream",
     "text": [
      "Model: \"sequential\"\n",
      "_________________________________________________________________\n",
      " Layer (type)                Output Shape              Param #   \n",
      "=================================================================\n",
      " dense (Dense)               (None, 50)                600       \n",
      "                                                                 \n",
      " dense_1 (Dense)             (None, 25)                1275      \n",
      "                                                                 \n",
      " dense_2 (Dense)             (None, 1)                 26        \n",
      "                                                                 \n",
      "=================================================================\n",
      "Total params: 1901 (7.43 KB)\n",
      "Trainable params: 1901 (7.43 KB)\n",
      "Non-trainable params: 0 (0.00 Byte)\n",
      "_________________________________________________________________\n"
     ]
    }
   ],
   "source": [
    "model1.summary()"
   ]
  },
  {
   "cell_type": "markdown",
   "metadata": {
    "id": "7SIjUcRBt5Bw"
   },
   "source": [
    "Output shape:\n",
    "  N-D tensor with shape: (batch_size, ..., units).\n",
    "For instance, for a 2D input with shape (batch_size, input_dim),\n",
    "the output would have shape (batch_size, units)."
   ]
  },
  {
   "cell_type": "code",
   "execution_count": 24,
   "metadata": {
    "colab": {
     "base_uri": "https://localhost:8080/"
    },
    "id": "F3XOiN2pv0-2",
    "outputId": "c57336a0-ff5a-4359-9d39-787b04cea059"
   },
   "outputs": [
    {
     "data": {
      "text/plain": [
       "0    7963\n",
       "1    2037\n",
       "Name: Exited, dtype: int64"
      ]
     },
     "execution_count": 24,
     "metadata": {},
     "output_type": "execute_result"
    }
   ],
   "source": [
    "y.value_counts()"
   ]
  },
  {
   "cell_type": "markdown",
   "metadata": {
    "id": "LXUi0n8Wxc-C"
   },
   "source": [
    "We will chose f_score "
   ]
  },
  {
   "cell_type": "code",
   "execution_count": 25,
   "metadata": {
    "id": "LRPZ1MPsJ-G-"
   },
   "outputs": [],
   "source": [
    "\n",
    "def recall_m(y_true, y_pred):\n",
    "    true_positives = K.sum(K.round(K.clip(y_true * y_pred, 0, 1)))\n",
    "    possible_positives = K.sum(K.round(K.clip(y_true, 0, 1)))\n",
    "    recall = true_positives / (possible_positives + K.epsilon())\n",
    "    return recall\n",
    "\n",
    "def precision_m(y_true, y_pred):\n",
    "    true_positives = K.sum(K.round(K.clip(y_true * y_pred, 0, 1)))\n",
    "    predicted_positives = K.sum(K.round(K.clip(y_pred, 0, 1)))\n",
    "    precision = true_positives / (predicted_positives + K.epsilon())\n",
    "    return precision\n",
    "\n",
    "def f1_m(y_true, y_pred):\n",
    "    precision = precision_m(y_true, y_pred)\n",
    "    recall = recall_m(y_true, y_pred)\n",
    "    return 2*((precision*recall)/(precision+recall+K.epsilon()))\n"
   ]
  },
  {
   "cell_type": "code",
   "execution_count": 26,
   "metadata": {
    "colab": {
     "base_uri": "https://localhost:8080/"
    },
    "id": "3R_lkaZ_pqHy",
    "outputId": "d658ac07-c2c1-4f36-ef05-30187c07f32d"
   },
   "outputs": [
    {
     "name": "stdout",
     "output_type": "stream",
     "text": [
      "Epoch 1/100\n",
      "219/219 [==============================] - 4s 7ms/step - loss: 0.4961 - f1_m: 0.0169 - val_loss: 0.4672 - val_f1_m: 0.0778\n",
      "Epoch 2/100\n",
      "219/219 [==============================] - 1s 6ms/step - loss: 0.4533 - f1_m: 0.1374 - val_loss: 0.4416 - val_f1_m: 0.2078\n",
      "Epoch 3/100\n",
      "219/219 [==============================] - 2s 7ms/step - loss: 0.4362 - f1_m: 0.2369 - val_loss: 0.4280 - val_f1_m: 0.3385\n",
      "Epoch 4/100\n",
      "219/219 [==============================] - 2s 8ms/step - loss: 0.4242 - f1_m: 0.2978 - val_loss: 0.4141 - val_f1_m: 0.3033\n",
      "Epoch 5/100\n",
      "219/219 [==============================] - 1s 6ms/step - loss: 0.4123 - f1_m: 0.3279 - val_loss: 0.4033 - val_f1_m: 0.4353\n",
      "Epoch 6/100\n",
      "219/219 [==============================] - 1s 6ms/step - loss: 0.3975 - f1_m: 0.3789 - val_loss: 0.3848 - val_f1_m: 0.4330\n",
      "Epoch 7/100\n",
      "219/219 [==============================] - 1s 6ms/step - loss: 0.3810 - f1_m: 0.4197 - val_loss: 0.3683 - val_f1_m: 0.4433\n",
      "Epoch 8/100\n",
      "219/219 [==============================] - 1s 6ms/step - loss: 0.3687 - f1_m: 0.4834 - val_loss: 0.3594 - val_f1_m: 0.5265\n",
      "Epoch 9/100\n",
      "219/219 [==============================] - 2s 8ms/step - loss: 0.3628 - f1_m: 0.5032 - val_loss: 0.3514 - val_f1_m: 0.5434\n",
      "Epoch 10/100\n",
      "219/219 [==============================] - 2s 7ms/step - loss: 0.3554 - f1_m: 0.5070 - val_loss: 0.3459 - val_f1_m: 0.5481\n",
      "Epoch 11/100\n",
      "219/219 [==============================] - 2s 7ms/step - loss: 0.3548 - f1_m: 0.5115 - val_loss: 0.3451 - val_f1_m: 0.5135\n",
      "Epoch 12/100\n",
      "219/219 [==============================] - 2s 8ms/step - loss: 0.3529 - f1_m: 0.5117 - val_loss: 0.3417 - val_f1_m: 0.5696\n",
      "Epoch 13/100\n",
      "219/219 [==============================] - 2s 7ms/step - loss: 0.3488 - f1_m: 0.5349 - val_loss: 0.3433 - val_f1_m: 0.5668\n",
      "Epoch 14/100\n",
      "219/219 [==============================] - 2s 8ms/step - loss: 0.3467 - f1_m: 0.5248 - val_loss: 0.3458 - val_f1_m: 0.5086\n",
      "Epoch 15/100\n",
      "219/219 [==============================] - 1s 6ms/step - loss: 0.3479 - f1_m: 0.5461 - val_loss: 0.3422 - val_f1_m: 0.5201\n",
      "Epoch 16/100\n",
      "219/219 [==============================] - 2s 7ms/step - loss: 0.3459 - f1_m: 0.5347 - val_loss: 0.3422 - val_f1_m: 0.5779\n",
      "Epoch 17/100\n",
      "219/219 [==============================] - 2s 8ms/step - loss: 0.3452 - f1_m: 0.5433 - val_loss: 0.3355 - val_f1_m: 0.5687\n",
      "Epoch 18/100\n",
      "219/219 [==============================] - 2s 8ms/step - loss: 0.3435 - f1_m: 0.5331 - val_loss: 0.3364 - val_f1_m: 0.5505\n",
      "Epoch 19/100\n",
      "219/219 [==============================] - 2s 7ms/step - loss: 0.3427 - f1_m: 0.5327 - val_loss: 0.3360 - val_f1_m: 0.5539\n",
      "Epoch 20/100\n",
      "219/219 [==============================] - 1s 4ms/step - loss: 0.3401 - f1_m: 0.5410 - val_loss: 0.3349 - val_f1_m: 0.5359\n",
      "Epoch 21/100\n",
      "219/219 [==============================] - 1s 7ms/step - loss: 0.3392 - f1_m: 0.5426 - val_loss: 0.3353 - val_f1_m: 0.5842\n",
      "Epoch 22/100\n",
      "219/219 [==============================] - 1s 5ms/step - loss: 0.3399 - f1_m: 0.5359 - val_loss: 0.3320 - val_f1_m: 0.5794\n",
      "Epoch 23/100\n",
      "219/219 [==============================] - 1s 5ms/step - loss: 0.3383 - f1_m: 0.5415 - val_loss: 0.3320 - val_f1_m: 0.5523\n",
      "Epoch 24/100\n",
      "219/219 [==============================] - 1s 6ms/step - loss: 0.3370 - f1_m: 0.5479 - val_loss: 0.3318 - val_f1_m: 0.5780\n",
      "Epoch 25/100\n",
      "219/219 [==============================] - 1s 6ms/step - loss: 0.3359 - f1_m: 0.5456 - val_loss: 0.3322 - val_f1_m: 0.5562\n",
      "Epoch 26/100\n",
      "219/219 [==============================] - 2s 7ms/step - loss: 0.3376 - f1_m: 0.5427 - val_loss: 0.3357 - val_f1_m: 0.5967\n",
      "Epoch 27/100\n",
      "219/219 [==============================] - 1s 7ms/step - loss: 0.3363 - f1_m: 0.5496 - val_loss: 0.3315 - val_f1_m: 0.5412\n",
      "Epoch 28/100\n",
      "219/219 [==============================] - 1s 5ms/step - loss: 0.3348 - f1_m: 0.5434 - val_loss: 0.3310 - val_f1_m: 0.5840\n",
      "Epoch 29/100\n",
      "219/219 [==============================] - 1s 6ms/step - loss: 0.3346 - f1_m: 0.5423 - val_loss: 0.3308 - val_f1_m: 0.5728\n",
      "Epoch 30/100\n",
      "219/219 [==============================] - 1s 6ms/step - loss: 0.3328 - f1_m: 0.5457 - val_loss: 0.3336 - val_f1_m: 0.5349\n",
      "Epoch 31/100\n",
      "219/219 [==============================] - 1s 6ms/step - loss: 0.3320 - f1_m: 0.5490 - val_loss: 0.3303 - val_f1_m: 0.5815\n",
      "Epoch 32/100\n",
      "219/219 [==============================] - 1s 7ms/step - loss: 0.3339 - f1_m: 0.5467 - val_loss: 0.3316 - val_f1_m: 0.5475\n",
      "Epoch 33/100\n",
      "219/219 [==============================] - 1s 5ms/step - loss: 0.3319 - f1_m: 0.5573 - val_loss: 0.3344 - val_f1_m: 0.5930\n",
      "Epoch 34/100\n",
      "219/219 [==============================] - 1s 6ms/step - loss: 0.3328 - f1_m: 0.5402 - val_loss: 0.3304 - val_f1_m: 0.5673\n",
      "Epoch 35/100\n",
      "219/219 [==============================] - 2s 7ms/step - loss: 0.3298 - f1_m: 0.5542 - val_loss: 0.3361 - val_f1_m: 0.6071\n",
      "Epoch 36/100\n",
      "219/219 [==============================] - 1s 6ms/step - loss: 0.3308 - f1_m: 0.5446 - val_loss: 0.3278 - val_f1_m: 0.5854\n",
      "Epoch 37/100\n",
      "219/219 [==============================] - 2s 7ms/step - loss: 0.3288 - f1_m: 0.5455 - val_loss: 0.3277 - val_f1_m: 0.5736\n",
      "Epoch 38/100\n",
      "219/219 [==============================] - 1s 6ms/step - loss: 0.3300 - f1_m: 0.5611 - val_loss: 0.3301 - val_f1_m: 0.5897\n",
      "Epoch 39/100\n",
      "219/219 [==============================] - 2s 7ms/step - loss: 0.3288 - f1_m: 0.5563 - val_loss: 0.3310 - val_f1_m: 0.5480\n",
      "Epoch 40/100\n",
      "219/219 [==============================] - 1s 5ms/step - loss: 0.3281 - f1_m: 0.5670 - val_loss: 0.3296 - val_f1_m: 0.5676\n",
      "Epoch 41/100\n",
      "219/219 [==============================] - 1s 5ms/step - loss: 0.3276 - f1_m: 0.5499 - val_loss: 0.3378 - val_f1_m: 0.5238\n",
      "Epoch 42/100\n",
      "219/219 [==============================] - 1s 5ms/step - loss: 0.3287 - f1_m: 0.5696 - val_loss: 0.3281 - val_f1_m: 0.5818\n",
      "Epoch 43/100\n",
      "219/219 [==============================] - 1s 5ms/step - loss: 0.3271 - f1_m: 0.5557 - val_loss: 0.3332 - val_f1_m: 0.5499\n",
      "Epoch 44/100\n",
      "219/219 [==============================] - 1s 6ms/step - loss: 0.3261 - f1_m: 0.5561 - val_loss: 0.3309 - val_f1_m: 0.5499\n",
      "Epoch 45/100\n",
      "219/219 [==============================] - 2s 8ms/step - loss: 0.3244 - f1_m: 0.5586 - val_loss: 0.3385 - val_f1_m: 0.5920\n",
      "Epoch 46/100\n",
      "219/219 [==============================] - 1s 4ms/step - loss: 0.3263 - f1_m: 0.5524 - val_loss: 0.3367 - val_f1_m: 0.5346\n",
      "Epoch 47/100\n",
      "219/219 [==============================] - 1s 4ms/step - loss: 0.3268 - f1_m: 0.5447 - val_loss: 0.3405 - val_f1_m: 0.5928\n",
      "Epoch 48/100\n",
      "219/219 [==============================] - 1s 7ms/step - loss: 0.3281 - f1_m: 0.5578 - val_loss: 0.3313 - val_f1_m: 0.5420\n",
      "Epoch 49/100\n",
      "219/219 [==============================] - 1s 6ms/step - loss: 0.3245 - f1_m: 0.5548 - val_loss: 0.3328 - val_f1_m: 0.5926\n",
      "Epoch 50/100\n",
      "219/219 [==============================] - 2s 7ms/step - loss: 0.3245 - f1_m: 0.5484 - val_loss: 0.3313 - val_f1_m: 0.5811\n",
      "Epoch 51/100\n",
      "219/219 [==============================] - 1s 7ms/step - loss: 0.3239 - f1_m: 0.5570 - val_loss: 0.3308 - val_f1_m: 0.5805\n",
      "Epoch 52/100\n",
      "219/219 [==============================] - 1s 7ms/step - loss: 0.3233 - f1_m: 0.5598 - val_loss: 0.3323 - val_f1_m: 0.5411\n",
      "Epoch 53/100\n",
      "219/219 [==============================] - 1s 6ms/step - loss: 0.3226 - f1_m: 0.5610 - val_loss: 0.3296 - val_f1_m: 0.5806\n",
      "Epoch 54/100\n",
      "219/219 [==============================] - 1s 6ms/step - loss: 0.3235 - f1_m: 0.5747 - val_loss: 0.3300 - val_f1_m: 0.5798\n",
      "Epoch 55/100\n",
      "219/219 [==============================] - 1s 7ms/step - loss: 0.3236 - f1_m: 0.5767 - val_loss: 0.3291 - val_f1_m: 0.5796\n",
      "Epoch 56/100\n",
      "219/219 [==============================] - 1s 7ms/step - loss: 0.3221 - f1_m: 0.5783 - val_loss: 0.3310 - val_f1_m: 0.5900\n",
      "Epoch 57/100\n",
      "219/219 [==============================] - 1s 7ms/step - loss: 0.3215 - f1_m: 0.5699 - val_loss: 0.3297 - val_f1_m: 0.5632\n",
      "Epoch 58/100\n",
      "219/219 [==============================] - 1s 6ms/step - loss: 0.3210 - f1_m: 0.5547 - val_loss: 0.3398 - val_f1_m: 0.6080\n",
      "Epoch 59/100\n",
      "219/219 [==============================] - 1s 6ms/step - loss: 0.3222 - f1_m: 0.5702 - val_loss: 0.3293 - val_f1_m: 0.6001\n",
      "Epoch 60/100\n",
      "219/219 [==============================] - 1s 7ms/step - loss: 0.3206 - f1_m: 0.5700 - val_loss: 0.3290 - val_f1_m: 0.5841\n",
      "Epoch 61/100\n"
     ]
    },
    {
     "name": "stdout",
     "output_type": "stream",
     "text": [
      "219/219 [==============================] - 1s 6ms/step - loss: 0.3204 - f1_m: 0.5721 - val_loss: 0.3312 - val_f1_m: 0.5625\n",
      "Epoch 62/100\n",
      "219/219 [==============================] - 2s 7ms/step - loss: 0.3204 - f1_m: 0.5804 - val_loss: 0.3285 - val_f1_m: 0.5808\n",
      "Epoch 63/100\n",
      "219/219 [==============================] - 2s 7ms/step - loss: 0.3200 - f1_m: 0.5598 - val_loss: 0.3388 - val_f1_m: 0.6050\n",
      "Epoch 64/100\n",
      "219/219 [==============================] - 1s 7ms/step - loss: 0.3197 - f1_m: 0.5788 - val_loss: 0.3314 - val_f1_m: 0.5997\n",
      "Epoch 65/100\n",
      "219/219 [==============================] - 2s 7ms/step - loss: 0.3188 - f1_m: 0.5715 - val_loss: 0.3307 - val_f1_m: 0.5771\n",
      "Epoch 66/100\n",
      "219/219 [==============================] - 1s 6ms/step - loss: 0.3185 - f1_m: 0.5681 - val_loss: 0.3308 - val_f1_m: 0.5956\n",
      "Epoch 67/100\n",
      "219/219 [==============================] - 2s 7ms/step - loss: 0.3190 - f1_m: 0.5753 - val_loss: 0.3308 - val_f1_m: 0.5938\n",
      "Epoch 68/100\n",
      "219/219 [==============================] - 2s 7ms/step - loss: 0.3170 - f1_m: 0.5739 - val_loss: 0.3320 - val_f1_m: 0.5996\n",
      "Epoch 69/100\n",
      "219/219 [==============================] - 2s 7ms/step - loss: 0.3162 - f1_m: 0.5782 - val_loss: 0.3304 - val_f1_m: 0.5962\n",
      "Epoch 70/100\n",
      "219/219 [==============================] - 1s 5ms/step - loss: 0.3164 - f1_m: 0.5693 - val_loss: 0.3333 - val_f1_m: 0.5849\n",
      "Epoch 71/100\n",
      "219/219 [==============================] - 1s 6ms/step - loss: 0.3157 - f1_m: 0.5705 - val_loss: 0.3311 - val_f1_m: 0.5998\n",
      "Epoch 72/100\n",
      "219/219 [==============================] - 1s 5ms/step - loss: 0.3163 - f1_m: 0.5718 - val_loss: 0.3364 - val_f1_m: 0.5940\n",
      "Epoch 73/100\n",
      "219/219 [==============================] - 1s 7ms/step - loss: 0.3149 - f1_m: 0.5931 - val_loss: 0.3327 - val_f1_m: 0.5847\n",
      "Epoch 74/100\n",
      "219/219 [==============================] - 2s 7ms/step - loss: 0.3146 - f1_m: 0.5767 - val_loss: 0.3331 - val_f1_m: 0.5769\n",
      "Epoch 75/100\n",
      "219/219 [==============================] - 2s 7ms/step - loss: 0.3145 - f1_m: 0.5670 - val_loss: 0.3322 - val_f1_m: 0.5721\n",
      "Epoch 76/100\n",
      "219/219 [==============================] - 2s 7ms/step - loss: 0.3147 - f1_m: 0.5800 - val_loss: 0.3320 - val_f1_m: 0.5894\n",
      "Epoch 77/100\n",
      "219/219 [==============================] - 1s 6ms/step - loss: 0.3141 - f1_m: 0.5977 - val_loss: 0.3404 - val_f1_m: 0.5377\n",
      "Epoch 78/100\n",
      "219/219 [==============================] - 1s 5ms/step - loss: 0.3149 - f1_m: 0.5599 - val_loss: 0.3320 - val_f1_m: 0.5783\n",
      "Epoch 79/100\n",
      "219/219 [==============================] - 2s 8ms/step - loss: 0.3141 - f1_m: 0.5905 - val_loss: 0.3363 - val_f1_m: 0.5950\n",
      "Epoch 80/100\n",
      "219/219 [==============================] - 2s 7ms/step - loss: 0.3143 - f1_m: 0.5830 - val_loss: 0.3353 - val_f1_m: 0.5460\n",
      "Epoch 81/100\n",
      "219/219 [==============================] - 1s 6ms/step - loss: 0.3138 - f1_m: 0.5797 - val_loss: 0.3319 - val_f1_m: 0.6041\n",
      "Epoch 82/100\n",
      "219/219 [==============================] - 1s 4ms/step - loss: 0.3121 - f1_m: 0.5954 - val_loss: 0.3367 - val_f1_m: 0.5622\n",
      "Epoch 83/100\n",
      "219/219 [==============================] - 1s 6ms/step - loss: 0.3129 - f1_m: 0.5838 - val_loss: 0.3351 - val_f1_m: 0.5699\n",
      "Epoch 84/100\n",
      "219/219 [==============================] - 2s 7ms/step - loss: 0.3121 - f1_m: 0.5893 - val_loss: 0.3347 - val_f1_m: 0.5770\n",
      "Epoch 85/100\n",
      "219/219 [==============================] - 2s 7ms/step - loss: 0.3128 - f1_m: 0.5780 - val_loss: 0.3387 - val_f1_m: 0.6084\n",
      "Epoch 86/100\n",
      "219/219 [==============================] - 1s 6ms/step - loss: 0.3123 - f1_m: 0.5793 - val_loss: 0.3339 - val_f1_m: 0.5994\n",
      "Epoch 87/100\n",
      "219/219 [==============================] - 1s 7ms/step - loss: 0.3118 - f1_m: 0.5912 - val_loss: 0.3344 - val_f1_m: 0.5966\n",
      "Epoch 88/100\n",
      "219/219 [==============================] - 1s 6ms/step - loss: 0.3113 - f1_m: 0.5860 - val_loss: 0.3327 - val_f1_m: 0.5816\n",
      "Epoch 89/100\n",
      "219/219 [==============================] - 2s 7ms/step - loss: 0.3108 - f1_m: 0.5958 - val_loss: 0.3451 - val_f1_m: 0.5358\n",
      "Epoch 90/100\n",
      "219/219 [==============================] - 1s 6ms/step - loss: 0.3109 - f1_m: 0.5843 - val_loss: 0.3359 - val_f1_m: 0.5961\n",
      "Epoch 91/100\n",
      "219/219 [==============================] - 1s 6ms/step - loss: 0.3111 - f1_m: 0.5717 - val_loss: 0.3380 - val_f1_m: 0.5994\n",
      "Epoch 92/100\n",
      "219/219 [==============================] - 1s 6ms/step - loss: 0.3106 - f1_m: 0.5904 - val_loss: 0.3373 - val_f1_m: 0.5614\n",
      "Epoch 93/100\n",
      "219/219 [==============================] - 1s 6ms/step - loss: 0.3099 - f1_m: 0.5945 - val_loss: 0.3384 - val_f1_m: 0.6054\n",
      "Epoch 94/100\n",
      "219/219 [==============================] - 1s 6ms/step - loss: 0.3097 - f1_m: 0.5901 - val_loss: 0.3358 - val_f1_m: 0.5887\n",
      "Epoch 95/100\n",
      "219/219 [==============================] - 1s 6ms/step - loss: 0.3095 - f1_m: 0.5865 - val_loss: 0.3401 - val_f1_m: 0.5825\n",
      "Epoch 96/100\n",
      "219/219 [==============================] - 1s 6ms/step - loss: 0.3107 - f1_m: 0.6012 - val_loss: 0.3377 - val_f1_m: 0.5974\n",
      "Epoch 97/100\n",
      "219/219 [==============================] - 1s 5ms/step - loss: 0.3079 - f1_m: 0.5887 - val_loss: 0.3366 - val_f1_m: 0.5966\n",
      "Epoch 98/100\n",
      "219/219 [==============================] - 1s 5ms/step - loss: 0.3082 - f1_m: 0.5999 - val_loss: 0.3362 - val_f1_m: 0.5872\n",
      "Epoch 99/100\n",
      "219/219 [==============================] - 1s 5ms/step - loss: 0.3086 - f1_m: 0.5901 - val_loss: 0.3374 - val_f1_m: 0.5993\n",
      "Epoch 100/100\n",
      "219/219 [==============================] - 1s 5ms/step - loss: 0.3103 - f1_m: 0.5978 - val_loss: 0.3388 - val_f1_m: 0.5703\n"
     ]
    }
   ],
   "source": [
    "model1.compile(loss='binary_crossentropy', optimizer='adam', metrics=[f1_m])\n",
    "history = model1.fit(X_train,y_train,validation_data = (X_test,y_test),epochs = 100)"
   ]
  },
  {
   "cell_type": "code",
   "execution_count": null,
   "metadata": {
    "colab": {
     "base_uri": "https://localhost:8080/",
     "height": 265
    },
    "id": "mOz0F8c8vMdm",
    "outputId": "a63318ea-8e09-4a88-fbbd-39662c6b54ce"
   },
   "outputs": [
    {
     "data": {
      "image/png": "[encoded data removed]",
      "text/plain": [
       "<Figure size 432x288 with 1 Axes>"
      ]
     },
     "metadata": {
      "needs_background": "light",
      "tags": []
     },
     "output_type": "display_data"
    }
   ],
   "source": [
    "plt.plot(history.history['loss'])\n",
    "plt.plot(history.history['f1_m'])\n",
    "plt.plot(history.history['val_loss'])\n",
    "plt.plot(history.history['val_f1_m'])\n",
    "plt.legend(['loss','f1_m',\"val_loss\",'val_f1_m'])\n",
    "plt.show()"
   ]
  },
  {
   "cell_type": "markdown",
   "metadata": {
    "id": "Td-W7sZi9zaZ"
   },
   "source": [
    "Lets save the model."
   ]
  },
  {
   "cell_type": "code",
   "execution_count": null,
   "metadata": {
    "id": "r_ZXXz5i8XwY"
   },
   "outputs": [],
   "source": [
    "model1.save('model1.h5')"
   ]
  },
  {
   "cell_type": "markdown",
   "metadata": {
    "id": "CndgTLHc-GwK"
   },
   "source": [
    "Train 2 more different models."
   ]
  },
  {
   "cell_type": "code",
   "execution_count": null,
   "metadata": {
    "colab": {
     "base_uri": "https://localhost:8080/"
    },
    "id": "E8UW-RkM-Da8",
    "outputId": "e45c31e0-43ea-4b36-e894-4f689b349ccc"
   },
   "outputs": [
    {
     "name": "stdout",
     "output_type": "stream",
     "text": [
      "Epoch 1/100\n",
      "219/219 [==============================] - 1s 3ms/step - loss: 0.4868 - f1_m: 0.0023 - val_loss: 0.4712 - val_f1_m: 0.1014\n",
      "Epoch 2/100\n",
      "219/219 [==============================] - 1s 3ms/step - loss: 0.4562 - f1_m: 0.1140 - val_loss: 0.4506 - val_f1_m: 0.1049\n",
      "Epoch 3/100\n",
      "219/219 [==============================] - 1s 2ms/step - loss: 0.4373 - f1_m: 0.2452 - val_loss: 0.4238 - val_f1_m: 0.3343\n",
      "Epoch 4/100\n",
      "219/219 [==============================] - 0s 2ms/step - loss: 0.4215 - f1_m: 0.3265 - val_loss: 0.4115 - val_f1_m: 0.3790\n",
      "Epoch 5/100\n",
      "219/219 [==============================] - 1s 2ms/step - loss: 0.4081 - f1_m: 0.4001 - val_loss: 0.3988 - val_f1_m: 0.4497\n",
      "Epoch 6/100\n",
      "219/219 [==============================] - 0s 2ms/step - loss: 0.3918 - f1_m: 0.4304 - val_loss: 0.3836 - val_f1_m: 0.5028\n",
      "Epoch 7/100\n",
      "219/219 [==============================] - 1s 3ms/step - loss: 0.3806 - f1_m: 0.4566 - val_loss: 0.3711 - val_f1_m: 0.5116\n",
      "Epoch 8/100\n",
      "219/219 [==============================] - 0s 2ms/step - loss: 0.3704 - f1_m: 0.4818 - val_loss: 0.3673 - val_f1_m: 0.4925\n",
      "Epoch 9/100\n",
      "219/219 [==============================] - 1s 3ms/step - loss: 0.3650 - f1_m: 0.4999 - val_loss: 0.3606 - val_f1_m: 0.5161\n",
      "Epoch 10/100\n",
      "219/219 [==============================] - 0s 2ms/step - loss: 0.3622 - f1_m: 0.4991 - val_loss: 0.3596 - val_f1_m: 0.5314\n",
      "Epoch 11/100\n",
      "219/219 [==============================] - 1s 3ms/step - loss: 0.3587 - f1_m: 0.5062 - val_loss: 0.3556 - val_f1_m: 0.5260\n",
      "Epoch 12/100\n",
      "219/219 [==============================] - 1s 3ms/step - loss: 0.3576 - f1_m: 0.5118 - val_loss: 0.3559 - val_f1_m: 0.5259\n",
      "Epoch 13/100\n",
      "219/219 [==============================] - 1s 3ms/step - loss: 0.3573 - f1_m: 0.5201 - val_loss: 0.3561 - val_f1_m: 0.5560\n",
      "Epoch 14/100\n",
      "219/219 [==============================] - 1s 3ms/step - loss: 0.3544 - f1_m: 0.5247 - val_loss: 0.3521 - val_f1_m: 0.5373\n",
      "Epoch 15/100\n",
      "219/219 [==============================] - 0s 2ms/step - loss: 0.3527 - f1_m: 0.5093 - val_loss: 0.3518 - val_f1_m: 0.5212\n",
      "Epoch 16/100\n",
      "219/219 [==============================] - 1s 3ms/step - loss: 0.3504 - f1_m: 0.5107 - val_loss: 0.3501 - val_f1_m: 0.5377\n",
      "Epoch 17/100\n",
      "219/219 [==============================] - 0s 2ms/step - loss: 0.3508 - f1_m: 0.5120 - val_loss: 0.3548 - val_f1_m: 0.5711\n",
      "Epoch 18/100\n",
      "219/219 [==============================] - 0s 2ms/step - loss: 0.3497 - f1_m: 0.5171 - val_loss: 0.3507 - val_f1_m: 0.5565\n",
      "Epoch 19/100\n",
      "219/219 [==============================] - 1s 3ms/step - loss: 0.3480 - f1_m: 0.5184 - val_loss: 0.3523 - val_f1_m: 0.5750\n",
      "Epoch 20/100\n",
      "219/219 [==============================] - 0s 2ms/step - loss: 0.3478 - f1_m: 0.5212 - val_loss: 0.3500 - val_f1_m: 0.5342\n",
      "Epoch 21/100\n",
      "219/219 [==============================] - 0s 2ms/step - loss: 0.3462 - f1_m: 0.5258 - val_loss: 0.3463 - val_f1_m: 0.5630\n",
      "Epoch 22/100\n",
      "219/219 [==============================] - 0s 2ms/step - loss: 0.3447 - f1_m: 0.5178 - val_loss: 0.3466 - val_f1_m: 0.5475\n",
      "Epoch 23/100\n",
      "219/219 [==============================] - 1s 2ms/step - loss: 0.3448 - f1_m: 0.5353 - val_loss: 0.3477 - val_f1_m: 0.5401\n",
      "Epoch 24/100\n",
      "219/219 [==============================] - 0s 2ms/step - loss: 0.3432 - f1_m: 0.5343 - val_loss: 0.3471 - val_f1_m: 0.5337\n",
      "Epoch 25/100\n",
      "219/219 [==============================] - 0s 2ms/step - loss: 0.3426 - f1_m: 0.5335 - val_loss: 0.3472 - val_f1_m: 0.5174\n",
      "Epoch 26/100\n",
      "219/219 [==============================] - 0s 2ms/step - loss: 0.3423 - f1_m: 0.5240 - val_loss: 0.3453 - val_f1_m: 0.5403\n",
      "Epoch 27/100\n",
      "219/219 [==============================] - 1s 3ms/step - loss: 0.3416 - f1_m: 0.5413 - val_loss: 0.3538 - val_f1_m: 0.5014\n",
      "Epoch 28/100\n",
      "219/219 [==============================] - 1s 2ms/step - loss: 0.3428 - f1_m: 0.5280 - val_loss: 0.3435 - val_f1_m: 0.5446\n",
      "Epoch 29/100\n",
      "219/219 [==============================] - 0s 2ms/step - loss: 0.3408 - f1_m: 0.5327 - val_loss: 0.3432 - val_f1_m: 0.5491\n",
      "Epoch 30/100\n",
      "219/219 [==============================] - 1s 2ms/step - loss: 0.3400 - f1_m: 0.5353 - val_loss: 0.3432 - val_f1_m: 0.5523\n",
      "Epoch 31/100\n",
      "219/219 [==============================] - 1s 3ms/step - loss: 0.3380 - f1_m: 0.5285 - val_loss: 0.3420 - val_f1_m: 0.5581\n",
      "Epoch 32/100\n",
      "219/219 [==============================] - 1s 2ms/step - loss: 0.3368 - f1_m: 0.5423 - val_loss: 0.3434 - val_f1_m: 0.5588\n",
      "Epoch 33/100\n",
      "219/219 [==============================] - 1s 2ms/step - loss: 0.3356 - f1_m: 0.5430 - val_loss: 0.3441 - val_f1_m: 0.5271\n",
      "Epoch 34/100\n",
      "219/219 [==============================] - 1s 3ms/step - loss: 0.3346 - f1_m: 0.5407 - val_loss: 0.3431 - val_f1_m: 0.5315\n",
      "Epoch 35/100\n",
      "219/219 [==============================] - 0s 2ms/step - loss: 0.3366 - f1_m: 0.5471 - val_loss: 0.3449 - val_f1_m: 0.5832\n",
      "Epoch 36/100\n",
      "219/219 [==============================] - 1s 3ms/step - loss: 0.3346 - f1_m: 0.5441 - val_loss: 0.3509 - val_f1_m: 0.5988\n",
      "Epoch 37/100\n",
      "219/219 [==============================] - 1s 3ms/step - loss: 0.3355 - f1_m: 0.5399 - val_loss: 0.3467 - val_f1_m: 0.5823\n",
      "Epoch 38/100\n",
      "219/219 [==============================] - 1s 2ms/step - loss: 0.3342 - f1_m: 0.5493 - val_loss: 0.3436 - val_f1_m: 0.5078\n",
      "Epoch 39/100\n",
      "219/219 [==============================] - 0s 2ms/step - loss: 0.3335 - f1_m: 0.5482 - val_loss: 0.3409 - val_f1_m: 0.5594\n",
      "Epoch 40/100\n",
      "219/219 [==============================] - 0s 2ms/step - loss: 0.3336 - f1_m: 0.5522 - val_loss: 0.3475 - val_f1_m: 0.5932\n",
      "Epoch 41/100\n",
      "219/219 [==============================] - 1s 3ms/step - loss: 0.3324 - f1_m: 0.5537 - val_loss: 0.3430 - val_f1_m: 0.5261\n",
      "Epoch 42/100\n",
      "219/219 [==============================] - 1s 2ms/step - loss: 0.3317 - f1_m: 0.5445 - val_loss: 0.3417 - val_f1_m: 0.5685\n",
      "Epoch 43/100\n",
      "219/219 [==============================] - 0s 2ms/step - loss: 0.3310 - f1_m: 0.5437 - val_loss: 0.3416 - val_f1_m: 0.5238\n",
      "Epoch 44/100\n",
      "219/219 [==============================] - 1s 3ms/step - loss: 0.3315 - f1_m: 0.5624 - val_loss: 0.3421 - val_f1_m: 0.5527\n",
      "Epoch 45/100\n",
      "219/219 [==============================] - 0s 2ms/step - loss: 0.3291 - f1_m: 0.5431 - val_loss: 0.3439 - val_f1_m: 0.5780\n",
      "Epoch 46/100\n",
      "219/219 [==============================] - 1s 2ms/step - loss: 0.3333 - f1_m: 0.5482 - val_loss: 0.3396 - val_f1_m: 0.5704\n",
      "Epoch 47/100\n",
      "219/219 [==============================] - 1s 2ms/step - loss: 0.3300 - f1_m: 0.5545 - val_loss: 0.3381 - val_f1_m: 0.5811\n",
      "Epoch 48/100\n",
      "219/219 [==============================] - 1s 3ms/step - loss: 0.3287 - f1_m: 0.5514 - val_loss: 0.3385 - val_f1_m: 0.5928\n",
      "Epoch 49/100\n",
      "219/219 [==============================] - 0s 2ms/step - loss: 0.3287 - f1_m: 0.5512 - val_loss: 0.3408 - val_f1_m: 0.5763\n",
      "Epoch 50/100\n",
      "219/219 [==============================] - 0s 2ms/step - loss: 0.3308 - f1_m: 0.5382 - val_loss: 0.3442 - val_f1_m: 0.5853\n",
      "Epoch 51/100\n",
      "219/219 [==============================] - 0s 2ms/step - loss: 0.3277 - f1_m: 0.5554 - val_loss: 0.3449 - val_f1_m: 0.5788\n",
      "Epoch 52/100\n",
      "219/219 [==============================] - 1s 3ms/step - loss: 0.3263 - f1_m: 0.5598 - val_loss: 0.3407 - val_f1_m: 0.5336\n",
      "Epoch 53/100\n",
      "219/219 [==============================] - 1s 3ms/step - loss: 0.3298 - f1_m: 0.5550 - val_loss: 0.3378 - val_f1_m: 0.5678\n",
      "Epoch 54/100\n",
      "219/219 [==============================] - 1s 3ms/step - loss: 0.3268 - f1_m: 0.5574 - val_loss: 0.3419 - val_f1_m: 0.5949\n",
      "Epoch 55/100\n",
      "219/219 [==============================] - 1s 2ms/step - loss: 0.3266 - f1_m: 0.5658 - val_loss: 0.3368 - val_f1_m: 0.5537\n",
      "Epoch 56/100\n",
      "219/219 [==============================] - 1s 3ms/step - loss: 0.3245 - f1_m: 0.5660 - val_loss: 0.3481 - val_f1_m: 0.6068\n",
      "Epoch 57/100\n",
      "219/219 [==============================] - 1s 3ms/step - loss: 0.3254 - f1_m: 0.5562 - val_loss: 0.3354 - val_f1_m: 0.5726\n",
      "Epoch 58/100\n",
      "219/219 [==============================] - 1s 2ms/step - loss: 0.3254 - f1_m: 0.5603 - val_loss: 0.3374 - val_f1_m: 0.5617\n",
      "Epoch 59/100\n",
      "219/219 [==============================] - 0s 2ms/step - loss: 0.3263 - f1_m: 0.5641 - val_loss: 0.3380 - val_f1_m: 0.5743\n",
      "Epoch 60/100\n",
      "219/219 [==============================] - 1s 2ms/step - loss: 0.3254 - f1_m: 0.5573 - val_loss: 0.3350 - val_f1_m: 0.5519\n",
      "Epoch 61/100\n",
      "219/219 [==============================] - 0s 2ms/step - loss: 0.3244 - f1_m: 0.5695 - val_loss: 0.3449 - val_f1_m: 0.5798\n",
      "Epoch 62/100\n",
      "219/219 [==============================] - 1s 2ms/step - loss: 0.3245 - f1_m: 0.5623 - val_loss: 0.3377 - val_f1_m: 0.5369\n",
      "Epoch 63/100\n",
      "219/219 [==============================] - 1s 3ms/step - loss: 0.3233 - f1_m: 0.5489 - val_loss: 0.3393 - val_f1_m: 0.6023\n",
      "Epoch 64/100\n",
      "219/219 [==============================] - 1s 2ms/step - loss: 0.3226 - f1_m: 0.5559 - val_loss: 0.3460 - val_f1_m: 0.5988\n",
      "Epoch 65/100\n",
      "219/219 [==============================] - 1s 3ms/step - loss: 0.3228 - f1_m: 0.5716 - val_loss: 0.3360 - val_f1_m: 0.5679\n",
      "Epoch 66/100\n",
      "219/219 [==============================] - 0s 2ms/step - loss: 0.3232 - f1_m: 0.5710 - val_loss: 0.3374 - val_f1_m: 0.5576\n",
      "Epoch 67/100\n",
      "219/219 [==============================] - 1s 2ms/step - loss: 0.3224 - f1_m: 0.5615 - val_loss: 0.3382 - val_f1_m: 0.5425\n",
      "Epoch 68/100\n",
      "219/219 [==============================] - 0s 2ms/step - loss: 0.3225 - f1_m: 0.5579 - val_loss: 0.3422 - val_f1_m: 0.5940\n",
      "Epoch 69/100\n",
      "219/219 [==============================] - 0s 2ms/step - loss: 0.3218 - f1_m: 0.5704 - val_loss: 0.3398 - val_f1_m: 0.5355\n",
      "Epoch 70/100\n",
      "219/219 [==============================] - 1s 3ms/step - loss: 0.3230 - f1_m: 0.5608 - val_loss: 0.3412 - val_f1_m: 0.5272\n",
      "Epoch 71/100\n",
      "219/219 [==============================] - 1s 3ms/step - loss: 0.3228 - f1_m: 0.5554 - val_loss: 0.3406 - val_f1_m: 0.5886\n",
      "Epoch 72/100\n",
      "219/219 [==============================] - 1s 2ms/step - loss: 0.3226 - f1_m: 0.5663 - val_loss: 0.3392 - val_f1_m: 0.5308\n",
      "Epoch 73/100\n",
      "219/219 [==============================] - 1s 2ms/step - loss: 0.3200 - f1_m: 0.5732 - val_loss: 0.3361 - val_f1_m: 0.5594\n",
      "Epoch 74/100\n",
      "219/219 [==============================] - 1s 3ms/step - loss: 0.3200 - f1_m: 0.5607 - val_loss: 0.3429 - val_f1_m: 0.5293\n",
      "Epoch 75/100\n",
      "219/219 [==============================] - 1s 3ms/step - loss: 0.3207 - f1_m: 0.5661 - val_loss: 0.3416 - val_f1_m: 0.5693\n",
      "Epoch 76/100\n",
      "219/219 [==============================] - 1s 2ms/step - loss: 0.3213 - f1_m: 0.5606 - val_loss: 0.3374 - val_f1_m: 0.5789\n",
      "Epoch 77/100\n",
      "219/219 [==============================] - 0s 2ms/step - loss: 0.3200 - f1_m: 0.5713 - val_loss: 0.3381 - val_f1_m: 0.5697\n",
      "Epoch 78/100\n",
      "219/219 [==============================] - 1s 3ms/step - loss: 0.3201 - f1_m: 0.5662 - val_loss: 0.3407 - val_f1_m: 0.6119\n",
      "Epoch 79/100\n",
      "219/219 [==============================] - 1s 2ms/step - loss: 0.3184 - f1_m: 0.5680 - val_loss: 0.3372 - val_f1_m: 0.5911\n",
      "Epoch 80/100\n",
      "219/219 [==============================] - 1s 2ms/step - loss: 0.3183 - f1_m: 0.5772 - val_loss: 0.3389 - val_f1_m: 0.5686\n",
      "Epoch 81/100\n",
      "219/219 [==============================] - 1s 2ms/step - loss: 0.3178 - f1_m: 0.5746 - val_loss: 0.3451 - val_f1_m: 0.5605\n",
      "Epoch 82/100\n",
      "219/219 [==============================] - 1s 3ms/step - loss: 0.3181 - f1_m: 0.5770 - val_loss: 0.3387 - val_f1_m: 0.5761\n",
      "Epoch 83/100\n",
      "219/219 [==============================] - 1s 3ms/step - loss: 0.3196 - f1_m: 0.5768 - val_loss: 0.3385 - val_f1_m: 0.5795\n",
      "Epoch 84/100\n",
      "219/219 [==============================] - 1s 3ms/step - loss: 0.3171 - f1_m: 0.5703 - val_loss: 0.3390 - val_f1_m: 0.5557\n",
      "Epoch 85/100\n",
      "219/219 [==============================] - 1s 3ms/step - loss: 0.3195 - f1_m: 0.5768 - val_loss: 0.3363 - val_f1_m: 0.5679\n",
      "Epoch 86/100\n",
      "219/219 [==============================] - 0s 2ms/step - loss: 0.3178 - f1_m: 0.5780 - val_loss: 0.3460 - val_f1_m: 0.5254\n",
      "Epoch 87/100\n",
      "219/219 [==============================] - 1s 2ms/step - loss: 0.3162 - f1_m: 0.5820 - val_loss: 0.3477 - val_f1_m: 0.6150\n",
      "Epoch 88/100\n",
      "219/219 [==============================] - 0s 2ms/step - loss: 0.3157 - f1_m: 0.5838 - val_loss: 0.3401 - val_f1_m: 0.5766\n",
      "Epoch 89/100\n",
      "219/219 [==============================] - 1s 2ms/step - loss: 0.3163 - f1_m: 0.5785 - val_loss: 0.3386 - val_f1_m: 0.5604\n",
      "Epoch 90/100\n",
      "219/219 [==============================] - 1s 3ms/step - loss: 0.3158 - f1_m: 0.5853 - val_loss: 0.3403 - val_f1_m: 0.6023\n",
      "Epoch 91/100\n",
      "219/219 [==============================] - 1s 3ms/step - loss: 0.3163 - f1_m: 0.5801 - val_loss: 0.3397 - val_f1_m: 0.5799\n",
      "Epoch 92/100\n",
      "219/219 [==============================] - 1s 3ms/step - loss: 0.3179 - f1_m: 0.5652 - val_loss: 0.3384 - val_f1_m: 0.5929\n",
      "Epoch 93/100\n",
      "219/219 [==============================] - 1s 2ms/step - loss: 0.3160 - f1_m: 0.5668 - val_loss: 0.3440 - val_f1_m: 0.6077\n",
      "Epoch 94/100\n",
      "219/219 [==============================] - 1s 3ms/step - loss: 0.3173 - f1_m: 0.5720 - val_loss: 0.3411 - val_f1_m: 0.6069\n",
      "Epoch 95/100\n",
      "219/219 [==============================] - 1s 3ms/step - loss: 0.3152 - f1_m: 0.5672 - val_loss: 0.3476 - val_f1_m: 0.6052\n",
      "Epoch 96/100\n",
      "219/219 [==============================] - 1s 3ms/step - loss: 0.3150 - f1_m: 0.5813 - val_loss: 0.3463 - val_f1_m: 0.6026\n",
      "Epoch 97/100\n",
      "219/219 [==============================] - 1s 2ms/step - loss: 0.3134 - f1_m: 0.5867 - val_loss: 0.3416 - val_f1_m: 0.5893\n",
      "Epoch 98/100\n",
      "219/219 [==============================] - 1s 3ms/step - loss: 0.3143 - f1_m: 0.5784 - val_loss: 0.3427 - val_f1_m: 0.5963\n",
      "Epoch 99/100\n",
      "219/219 [==============================] - 1s 2ms/step - loss: 0.3129 - f1_m: 0.5801 - val_loss: 0.3417 - val_f1_m: 0.5789\n",
      "Epoch 100/100\n",
      "219/219 [==============================] - 1s 2ms/step - loss: 0.3128 - f1_m: 0.5855 - val_loss: 0.3425 - val_f1_m: 0.5571\n"
     ]
    }
   ],
   "source": [
    "model2 = Sequential()\n",
    "model2.add(Dense(25,activation = 'relu',input_dim = 11))\n",
    "model2.add(Dense(25,activation = 'relu'))\n",
    "model2.add(Dense(10,activation = 'relu'))\n",
    "model2.add(Dense(1,activation = 'sigmoid'))\n",
    "\n",
    "model2.compile(loss='binary_crossentropy', optimizer='adam', metrics=[f1_m])\n",
    "history1 = model2.fit(X_train,y_train,validation_data = (X_test,y_test),epochs = 100)"
   ]
  },
  {
   "cell_type": "code",
   "execution_count": null,
   "metadata": {
    "colab": {
     "base_uri": "https://localhost:8080/",
     "height": 265
    },
    "id": "ZbaXjy9c_OSE",
    "outputId": "3a4c99f5-1eb3-4b5e-bbfc-d698309d9de2"
   },
   "outputs": [
    {
     "data": {
      "image/png": "[encoded data removed]",
      "text/plain": [
       "<Figure size 432x288 with 1 Axes>"
      ]
     },
     "metadata": {
      "needs_background": "light",
      "tags": []
     },
     "output_type": "display_data"
    }
   ],
   "source": [
    "plt.plot(history1.history['loss'])\n",
    "plt.plot(history1.history['f1_m'])\n",
    "plt.plot(history1.history['val_loss'])\n",
    "plt.plot(history1.history['val_f1_m'])\n",
    "plt.legend(['loss','f1_m',\"val_loss\",'val_f1_m'])\n",
    "plt.show()"
   ]
  },
  {
   "cell_type": "code",
   "execution_count": null,
   "metadata": {
    "id": "tEXT1pPx_jEe"
   },
   "outputs": [],
   "source": [
    "model2.save('model2.h5')"
   ]
  },
  {
   "cell_type": "code",
   "execution_count": null,
   "metadata": {
    "colab": {
     "base_uri": "https://localhost:8080/"
    },
    "id": "3d3UdmP5_u1D",
    "outputId": "9123cc1a-80b6-41f2-e3fb-c4550e9f6a7f"
   },
   "outputs": [
    {
     "name": "stdout",
     "output_type": "stream",
     "text": [
      "Epoch 1/100\n",
      "219/219 [==============================] - 1s 4ms/step - loss: 0.5193 - f1_m: 0.0155 - val_loss: 0.4691 - val_f1_m: 0.0000e+00\n",
      "Epoch 2/100\n",
      "219/219 [==============================] - 1s 2ms/step - loss: 0.4561 - f1_m: 0.1286 - val_loss: 0.4419 - val_f1_m: 0.1439\n",
      "Epoch 3/100\n",
      "219/219 [==============================] - 1s 3ms/step - loss: 0.4373 - f1_m: 0.2212 - val_loss: 0.4231 - val_f1_m: 0.2576\n",
      "Epoch 4/100\n",
      "219/219 [==============================] - 1s 3ms/step - loss: 0.4204 - f1_m: 0.3233 - val_loss: 0.4020 - val_f1_m: 0.3486\n",
      "Epoch 5/100\n",
      "219/219 [==============================] - 0s 2ms/step - loss: 0.3970 - f1_m: 0.3934 - val_loss: 0.3780 - val_f1_m: 0.4145\n",
      "Epoch 6/100\n",
      "219/219 [==============================] - 1s 3ms/step - loss: 0.3772 - f1_m: 0.4554 - val_loss: 0.3780 - val_f1_m: 0.4106\n",
      "Epoch 7/100\n",
      "219/219 [==============================] - 1s 3ms/step - loss: 0.3693 - f1_m: 0.4877 - val_loss: 0.3510 - val_f1_m: 0.5282\n",
      "Epoch 8/100\n",
      "219/219 [==============================] - 1s 2ms/step - loss: 0.3633 - f1_m: 0.4948 - val_loss: 0.3619 - val_f1_m: 0.4267\n",
      "Epoch 9/100\n",
      "219/219 [==============================] - 0s 2ms/step - loss: 0.3568 - f1_m: 0.5017 - val_loss: 0.3516 - val_f1_m: 0.4868\n",
      "Epoch 10/100\n",
      "219/219 [==============================] - 0s 2ms/step - loss: 0.3560 - f1_m: 0.5114 - val_loss: 0.3523 - val_f1_m: 0.5026\n",
      "Epoch 11/100\n",
      "219/219 [==============================] - 1s 2ms/step - loss: 0.3550 - f1_m: 0.5041 - val_loss: 0.3430 - val_f1_m: 0.5498\n",
      "Epoch 12/100\n",
      "219/219 [==============================] - 1s 3ms/step - loss: 0.3523 - f1_m: 0.5194 - val_loss: 0.3564 - val_f1_m: 0.4508\n",
      "Epoch 13/100\n",
      "219/219 [==============================] - 0s 2ms/step - loss: 0.3508 - f1_m: 0.5175 - val_loss: 0.3449 - val_f1_m: 0.5737\n",
      "Epoch 14/100\n",
      "219/219 [==============================] - 1s 3ms/step - loss: 0.3465 - f1_m: 0.5347 - val_loss: 0.3407 - val_f1_m: 0.5324\n",
      "Epoch 15/100\n",
      "219/219 [==============================] - 1s 3ms/step - loss: 0.3471 - f1_m: 0.5282 - val_loss: 0.3409 - val_f1_m: 0.5224\n",
      "Epoch 16/100\n",
      "219/219 [==============================] - 1s 3ms/step - loss: 0.3458 - f1_m: 0.5383 - val_loss: 0.3428 - val_f1_m: 0.5264\n",
      "Epoch 17/100\n",
      "219/219 [==============================] - 1s 3ms/step - loss: 0.3420 - f1_m: 0.5355 - val_loss: 0.3406 - val_f1_m: 0.5615\n",
      "Epoch 18/100\n",
      "219/219 [==============================] - 0s 2ms/step - loss: 0.3428 - f1_m: 0.5422 - val_loss: 0.3463 - val_f1_m: 0.4893\n",
      "Epoch 19/100\n",
      "219/219 [==============================] - 1s 3ms/step - loss: 0.3411 - f1_m: 0.5464 - val_loss: 0.3396 - val_f1_m: 0.5577\n",
      "Epoch 20/100\n",
      "219/219 [==============================] - 1s 2ms/step - loss: 0.3423 - f1_m: 0.5305 - val_loss: 0.3434 - val_f1_m: 0.5591\n",
      "Epoch 21/100\n",
      "219/219 [==============================] - 1s 2ms/step - loss: 0.3450 - f1_m: 0.5266 - val_loss: 0.3405 - val_f1_m: 0.5481\n",
      "Epoch 22/100\n",
      "219/219 [==============================] - 0s 2ms/step - loss: 0.3395 - f1_m: 0.5418 - val_loss: 0.3391 - val_f1_m: 0.5615\n",
      "Epoch 23/100\n",
      "219/219 [==============================] - 1s 2ms/step - loss: 0.3372 - f1_m: 0.5386 - val_loss: 0.3425 - val_f1_m: 0.5328\n",
      "Epoch 24/100\n",
      "219/219 [==============================] - 1s 3ms/step - loss: 0.3382 - f1_m: 0.5474 - val_loss: 0.3425 - val_f1_m: 0.5250\n",
      "Epoch 25/100\n",
      "219/219 [==============================] - 1s 2ms/step - loss: 0.3359 - f1_m: 0.5316 - val_loss: 0.3402 - val_f1_m: 0.5698\n",
      "Epoch 26/100\n",
      "219/219 [==============================] - 1s 3ms/step - loss: 0.3354 - f1_m: 0.5518 - val_loss: 0.3385 - val_f1_m: 0.5556\n",
      "Epoch 27/100\n",
      "219/219 [==============================] - 1s 3ms/step - loss: 0.3347 - f1_m: 0.5411 - val_loss: 0.3404 - val_f1_m: 0.5558\n",
      "Epoch 28/100\n",
      "219/219 [==============================] - 1s 2ms/step - loss: 0.3346 - f1_m: 0.5397 - val_loss: 0.3411 - val_f1_m: 0.5653\n",
      "Epoch 29/100\n",
      "219/219 [==============================] - 0s 2ms/step - loss: 0.3327 - f1_m: 0.5529 - val_loss: 0.3423 - val_f1_m: 0.5833\n",
      "Epoch 30/100\n",
      "219/219 [==============================] - 1s 2ms/step - loss: 0.3319 - f1_m: 0.5512 - val_loss: 0.3452 - val_f1_m: 0.5219\n",
      "Epoch 31/100\n",
      "219/219 [==============================] - 0s 2ms/step - loss: 0.3311 - f1_m: 0.5536 - val_loss: 0.3386 - val_f1_m: 0.5538\n",
      "Epoch 32/100\n",
      "219/219 [==============================] - 1s 3ms/step - loss: 0.3322 - f1_m: 0.5493 - val_loss: 0.3371 - val_f1_m: 0.5693\n",
      "Epoch 33/100\n",
      "219/219 [==============================] - 1s 2ms/step - loss: 0.3290 - f1_m: 0.5566 - val_loss: 0.3396 - val_f1_m: 0.5391\n",
      "Epoch 34/100\n",
      "219/219 [==============================] - 1s 3ms/step - loss: 0.3305 - f1_m: 0.5504 - val_loss: 0.3468 - val_f1_m: 0.5438\n",
      "Epoch 35/100\n",
      "219/219 [==============================] - 1s 3ms/step - loss: 0.3285 - f1_m: 0.5530 - val_loss: 0.3527 - val_f1_m: 0.6056\n",
      "Epoch 36/100\n",
      "219/219 [==============================] - 1s 3ms/step - loss: 0.3303 - f1_m: 0.5592 - val_loss: 0.3399 - val_f1_m: 0.5589\n",
      "Epoch 37/100\n",
      "219/219 [==============================] - 1s 3ms/step - loss: 0.3250 - f1_m: 0.5677 - val_loss: 0.3405 - val_f1_m: 0.5832\n",
      "Epoch 38/100\n",
      "219/219 [==============================] - 1s 3ms/step - loss: 0.3265 - f1_m: 0.5654 - val_loss: 0.3402 - val_f1_m: 0.5827\n",
      "Epoch 39/100\n",
      "219/219 [==============================] - 1s 3ms/step - loss: 0.3252 - f1_m: 0.5497 - val_loss: 0.3417 - val_f1_m: 0.5900\n",
      "Epoch 40/100\n",
      "219/219 [==============================] - 1s 3ms/step - loss: 0.3260 - f1_m: 0.5634 - val_loss: 0.3449 - val_f1_m: 0.6020\n",
      "Epoch 41/100\n",
      "219/219 [==============================] - 1s 3ms/step - loss: 0.3266 - f1_m: 0.5528 - val_loss: 0.3446 - val_f1_m: 0.5841\n",
      "Epoch 42/100\n",
      "219/219 [==============================] - 1s 3ms/step - loss: 0.3251 - f1_m: 0.5682 - val_loss: 0.3414 - val_f1_m: 0.5791\n",
      "Epoch 43/100\n",
      "219/219 [==============================] - 1s 2ms/step - loss: 0.3251 - f1_m: 0.5577 - val_loss: 0.3456 - val_f1_m: 0.5472\n",
      "Epoch 44/100\n",
      "219/219 [==============================] - 1s 2ms/step - loss: 0.3229 - f1_m: 0.5680 - val_loss: 0.3505 - val_f1_m: 0.6049\n",
      "Epoch 45/100\n",
      "219/219 [==============================] - 1s 3ms/step - loss: 0.3229 - f1_m: 0.5625 - val_loss: 0.3410 - val_f1_m: 0.5717\n",
      "Epoch 46/100\n",
      "219/219 [==============================] - 1s 3ms/step - loss: 0.3238 - f1_m: 0.5602 - val_loss: 0.3402 - val_f1_m: 0.5803\n",
      "Epoch 47/100\n",
      "219/219 [==============================] - 1s 3ms/step - loss: 0.3215 - f1_m: 0.5655 - val_loss: 0.3426 - val_f1_m: 0.5845\n",
      "Epoch 48/100\n",
      "219/219 [==============================] - 1s 3ms/step - loss: 0.3173 - f1_m: 0.5901 - val_loss: 0.3415 - val_f1_m: 0.5744\n",
      "Epoch 49/100\n",
      "219/219 [==============================] - 1s 3ms/step - loss: 0.3223 - f1_m: 0.5825 - val_loss: 0.3401 - val_f1_m: 0.5705\n",
      "Epoch 50/100\n",
      "219/219 [==============================] - 1s 2ms/step - loss: 0.3206 - f1_m: 0.5579 - val_loss: 0.3401 - val_f1_m: 0.5653\n",
      "Epoch 51/100\n",
      "219/219 [==============================] - 1s 3ms/step - loss: 0.3191 - f1_m: 0.5810 - val_loss: 0.3426 - val_f1_m: 0.5750\n",
      "Epoch 52/100\n",
      "219/219 [==============================] - 1s 2ms/step - loss: 0.3173 - f1_m: 0.5865 - val_loss: 0.3410 - val_f1_m: 0.5480\n",
      "Epoch 53/100\n",
      "219/219 [==============================] - 1s 3ms/step - loss: 0.3160 - f1_m: 0.5819 - val_loss: 0.3467 - val_f1_m: 0.6146\n",
      "Epoch 54/100\n",
      "219/219 [==============================] - 1s 2ms/step - loss: 0.3145 - f1_m: 0.5756 - val_loss: 0.3421 - val_f1_m: 0.5884\n",
      "Epoch 55/100\n",
      "219/219 [==============================] - 1s 3ms/step - loss: 0.3162 - f1_m: 0.5767 - val_loss: 0.3442 - val_f1_m: 0.5696\n",
      "Epoch 56/100\n",
      "219/219 [==============================] - 1s 3ms/step - loss: 0.3151 - f1_m: 0.5608 - val_loss: 0.3497 - val_f1_m: 0.5523\n",
      "Epoch 57/100\n",
      "219/219 [==============================] - 1s 2ms/step - loss: 0.3147 - f1_m: 0.5897 - val_loss: 0.3453 - val_f1_m: 0.5805\n",
      "Epoch 58/100\n",
      "219/219 [==============================] - 0s 2ms/step - loss: 0.3117 - f1_m: 0.5829 - val_loss: 0.3463 - val_f1_m: 0.5710\n",
      "Epoch 59/100\n",
      "219/219 [==============================] - 1s 2ms/step - loss: 0.3135 - f1_m: 0.5838 - val_loss: 0.3443 - val_f1_m: 0.5912\n",
      "Epoch 60/100\n",
      "219/219 [==============================] - 1s 3ms/step - loss: 0.3115 - f1_m: 0.5817 - val_loss: 0.3480 - val_f1_m: 0.5791\n",
      "Epoch 61/100\n",
      "219/219 [==============================] - 1s 3ms/step - loss: 0.3128 - f1_m: 0.5819 - val_loss: 0.3458 - val_f1_m: 0.5885\n",
      "Epoch 62/100\n",
      "219/219 [==============================] - 0s 2ms/step - loss: 0.3104 - f1_m: 0.5897 - val_loss: 0.3491 - val_f1_m: 0.5684\n",
      "Epoch 63/100\n",
      "219/219 [==============================] - 1s 2ms/step - loss: 0.3107 - f1_m: 0.5753 - val_loss: 0.3452 - val_f1_m: 0.5961\n",
      "Epoch 64/100\n",
      "219/219 [==============================] - 1s 2ms/step - loss: 0.3076 - f1_m: 0.5851 - val_loss: 0.3551 - val_f1_m: 0.5421\n",
      "Epoch 65/100\n",
      "219/219 [==============================] - 1s 3ms/step - loss: 0.3111 - f1_m: 0.5794 - val_loss: 0.3535 - val_f1_m: 0.5514\n",
      "Epoch 66/100\n",
      "219/219 [==============================] - 0s 2ms/step - loss: 0.3105 - f1_m: 0.5774 - val_loss: 0.3507 - val_f1_m: 0.5894\n",
      "Epoch 67/100\n",
      "219/219 [==============================] - 1s 3ms/step - loss: 0.3086 - f1_m: 0.5892 - val_loss: 0.3483 - val_f1_m: 0.5510\n",
      "Epoch 68/100\n",
      "219/219 [==============================] - 1s 3ms/step - loss: 0.3069 - f1_m: 0.5927 - val_loss: 0.3473 - val_f1_m: 0.5884\n",
      "Epoch 69/100\n",
      "219/219 [==============================] - 0s 2ms/step - loss: 0.3054 - f1_m: 0.5980 - val_loss: 0.3511 - val_f1_m: 0.5963\n",
      "Epoch 70/100\n",
      "219/219 [==============================] - 1s 3ms/step - loss: 0.3061 - f1_m: 0.5844 - val_loss: 0.3492 - val_f1_m: 0.6050\n",
      "Epoch 71/100\n",
      "219/219 [==============================] - 1s 3ms/step - loss: 0.3048 - f1_m: 0.5894 - val_loss: 0.3516 - val_f1_m: 0.5941\n",
      "Epoch 72/100\n",
      "219/219 [==============================] - 1s 3ms/step - loss: 0.3060 - f1_m: 0.5800 - val_loss: 0.3508 - val_f1_m: 0.5786\n",
      "Epoch 73/100\n",
      "219/219 [==============================] - 0s 2ms/step - loss: 0.3046 - f1_m: 0.5981 - val_loss: 0.3529 - val_f1_m: 0.5513\n",
      "Epoch 74/100\n",
      "219/219 [==============================] - 1s 2ms/step - loss: 0.3028 - f1_m: 0.6019 - val_loss: 0.3514 - val_f1_m: 0.5926\n",
      "Epoch 75/100\n",
      "219/219 [==============================] - 1s 2ms/step - loss: 0.3015 - f1_m: 0.5892 - val_loss: 0.3567 - val_f1_m: 0.5875\n",
      "Epoch 76/100\n",
      "219/219 [==============================] - 1s 2ms/step - loss: 0.3036 - f1_m: 0.6115 - val_loss: 0.3549 - val_f1_m: 0.5549\n",
      "Epoch 77/100\n",
      "219/219 [==============================] - 1s 2ms/step - loss: 0.3000 - f1_m: 0.6050 - val_loss: 0.3692 - val_f1_m: 0.5238\n",
      "Epoch 78/100\n",
      "219/219 [==============================] - 1s 2ms/step - loss: 0.3042 - f1_m: 0.5847 - val_loss: 0.3536 - val_f1_m: 0.5935\n",
      "Epoch 79/100\n",
      "219/219 [==============================] - 1s 3ms/step - loss: 0.3010 - f1_m: 0.5998 - val_loss: 0.3564 - val_f1_m: 0.5964\n",
      "Epoch 80/100\n",
      "219/219 [==============================] - 1s 3ms/step - loss: 0.3012 - f1_m: 0.5976 - val_loss: 0.3589 - val_f1_m: 0.5940\n",
      "Epoch 81/100\n",
      "219/219 [==============================] - 1s 2ms/step - loss: 0.2988 - f1_m: 0.6181 - val_loss: 0.3582 - val_f1_m: 0.5952\n",
      "Epoch 82/100\n",
      "219/219 [==============================] - 1s 2ms/step - loss: 0.2981 - f1_m: 0.5965 - val_loss: 0.3633 - val_f1_m: 0.5779\n",
      "Epoch 83/100\n",
      "219/219 [==============================] - 0s 2ms/step - loss: 0.2967 - f1_m: 0.5882 - val_loss: 0.3581 - val_f1_m: 0.5837\n",
      "Epoch 84/100\n",
      "219/219 [==============================] - 1s 2ms/step - loss: 0.2974 - f1_m: 0.6181 - val_loss: 0.3636 - val_f1_m: 0.5889\n",
      "Epoch 85/100\n",
      "219/219 [==============================] - 1s 3ms/step - loss: 0.3013 - f1_m: 0.5991 - val_loss: 0.3641 - val_f1_m: 0.5465\n",
      "Epoch 86/100\n",
      "219/219 [==============================] - 1s 2ms/step - loss: 0.2935 - f1_m: 0.6071 - val_loss: 0.3610 - val_f1_m: 0.5971\n",
      "Epoch 87/100\n",
      "219/219 [==============================] - 0s 2ms/step - loss: 0.2965 - f1_m: 0.6003 - val_loss: 0.3665 - val_f1_m: 0.5864\n",
      "Epoch 88/100\n",
      "219/219 [==============================] - 1s 2ms/step - loss: 0.2945 - f1_m: 0.6258 - val_loss: 0.3699 - val_f1_m: 0.5524\n",
      "Epoch 89/100\n",
      "219/219 [==============================] - 1s 3ms/step - loss: 0.2963 - f1_m: 0.6111 - val_loss: 0.3633 - val_f1_m: 0.5834\n",
      "Epoch 90/100\n",
      "219/219 [==============================] - 1s 3ms/step - loss: 0.2941 - f1_m: 0.6128 - val_loss: 0.3659 - val_f1_m: 0.5699\n",
      "Epoch 91/100\n",
      "219/219 [==============================] - 1s 2ms/step - loss: 0.2939 - f1_m: 0.6095 - val_loss: 0.3741 - val_f1_m: 0.5523\n",
      "Epoch 92/100\n",
      "219/219 [==============================] - 1s 2ms/step - loss: 0.2927 - f1_m: 0.6206 - val_loss: 0.3593 - val_f1_m: 0.5729\n",
      "Epoch 93/100\n",
      "219/219 [==============================] - 1s 3ms/step - loss: 0.2921 - f1_m: 0.6126 - val_loss: 0.3656 - val_f1_m: 0.5921\n",
      "Epoch 94/100\n",
      "219/219 [==============================] - 1s 2ms/step - loss: 0.2939 - f1_m: 0.6076 - val_loss: 0.3747 - val_f1_m: 0.5870\n",
      "Epoch 95/100\n",
      "219/219 [==============================] - 1s 3ms/step - loss: 0.2874 - f1_m: 0.6374 - val_loss: 0.3723 - val_f1_m: 0.5760\n",
      "Epoch 96/100\n",
      "219/219 [==============================] - 1s 2ms/step - loss: 0.2922 - f1_m: 0.6229 - val_loss: 0.3675 - val_f1_m: 0.5748\n",
      "Epoch 97/100\n",
      "219/219 [==============================] - 1s 3ms/step - loss: 0.2895 - f1_m: 0.6145 - val_loss: 0.3775 - val_f1_m: 0.5944\n",
      "Epoch 98/100\n",
      "219/219 [==============================] - 1s 3ms/step - loss: 0.2902 - f1_m: 0.6273 - val_loss: 0.3726 - val_f1_m: 0.5802\n",
      "Epoch 99/100\n",
      "219/219 [==============================] - 1s 2ms/step - loss: 0.2872 - f1_m: 0.6308 - val_loss: 0.3753 - val_f1_m: 0.5959\n",
      "Epoch 100/100\n",
      "219/219 [==============================] - 1s 3ms/step - loss: 0.2898 - f1_m: 0.6223 - val_loss: 0.3760 - val_f1_m: 0.5757\n"
     ]
    }
   ],
   "source": [
    "model3 = Sequential()\n",
    "model3.add(Dense(50,activation = 'relu',input_dim = 11))\n",
    "model3.add(Dense(25,activation = 'relu'))\n",
    "model3.add(Dense(25,activation = 'relu'))\n",
    "model3.add(Dropout(0.1))\n",
    "model3.add(Dense(10,activation = 'relu'))\n",
    "model3.add(Dense(1,activation = 'sigmoid'))\n",
    "\n",
    "model3.compile(loss='binary_crossentropy', optimizer='adam', metrics=[f1_m])\n",
    "history3 = model3.fit(X_train,y_train,validation_data = (X_test,y_test),epochs = 100)"
   ]
  },
  {
   "cell_type": "code",
   "execution_count": null,
   "metadata": {
    "id": "FutY2EkThjuG"
   },
   "outputs": [],
   "source": [
    "model3.save('model3.h5')"
   ]
  },
  {
   "cell_type": "code",
   "execution_count": null,
   "metadata": {
    "colab": {
     "base_uri": "https://localhost:8080/"
    },
    "id": "fji4UHEZcH-a",
    "outputId": "76d5e96b-2bfe-49f8-8977-0a4b33f8508b"
   },
   "outputs": [
    {
     "name": "stdout",
     "output_type": "stream",
     "text": [
      "Epoch 1/100\n",
      "219/219 [==============================] - 1s 3ms/step - loss: 0.5005 - f1_m: 0.0201 - val_loss: 0.4595 - val_f1_m: 0.0510\n",
      "Epoch 2/100\n",
      "219/219 [==============================] - 0s 2ms/step - loss: 0.4521 - f1_m: 0.1377 - val_loss: 0.4386 - val_f1_m: 0.0522\n",
      "Epoch 3/100\n",
      "219/219 [==============================] - 0s 2ms/step - loss: 0.4345 - f1_m: 0.2037 - val_loss: 0.4219 - val_f1_m: 0.1785\n",
      "Epoch 4/100\n",
      "219/219 [==============================] - 1s 2ms/step - loss: 0.4152 - f1_m: 0.3303 - val_loss: 0.4005 - val_f1_m: 0.3143\n",
      "Epoch 5/100\n",
      "219/219 [==============================] - 1s 3ms/step - loss: 0.3958 - f1_m: 0.4198 - val_loss: 0.3799 - val_f1_m: 0.4911\n",
      "Epoch 6/100\n",
      "219/219 [==============================] - 0s 2ms/step - loss: 0.3800 - f1_m: 0.4616 - val_loss: 0.3687 - val_f1_m: 0.5437\n",
      "Epoch 7/100\n",
      "219/219 [==============================] - 0s 2ms/step - loss: 0.3724 - f1_m: 0.4750 - val_loss: 0.3575 - val_f1_m: 0.5220\n",
      "Epoch 8/100\n",
      "219/219 [==============================] - 1s 2ms/step - loss: 0.3662 - f1_m: 0.5090 - val_loss: 0.3547 - val_f1_m: 0.5122\n",
      "Epoch 9/100\n",
      "219/219 [==============================] - 0s 2ms/step - loss: 0.3602 - f1_m: 0.5196 - val_loss: 0.3506 - val_f1_m: 0.5318\n",
      "Epoch 10/100\n",
      "219/219 [==============================] - 1s 2ms/step - loss: 0.3610 - f1_m: 0.5004 - val_loss: 0.3527 - val_f1_m: 0.4970\n",
      "Epoch 11/100\n",
      "219/219 [==============================] - 1s 3ms/step - loss: 0.3567 - f1_m: 0.5355 - val_loss: 0.3528 - val_f1_m: 0.4886\n",
      "Epoch 12/100\n",
      "219/219 [==============================] - 1s 2ms/step - loss: 0.3526 - f1_m: 0.5150 - val_loss: 0.3509 - val_f1_m: 0.4894\n",
      "Epoch 13/100\n",
      "219/219 [==============================] - 0s 2ms/step - loss: 0.3550 - f1_m: 0.5241 - val_loss: 0.3466 - val_f1_m: 0.5431\n",
      "Epoch 14/100\n",
      "219/219 [==============================] - 1s 2ms/step - loss: 0.3524 - f1_m: 0.5274 - val_loss: 0.3446 - val_f1_m: 0.5501\n",
      "Epoch 15/100\n",
      "219/219 [==============================] - 0s 2ms/step - loss: 0.3506 - f1_m: 0.5293 - val_loss: 0.3448 - val_f1_m: 0.5423\n",
      "Epoch 16/100\n",
      "219/219 [==============================] - 1s 2ms/step - loss: 0.3507 - f1_m: 0.5341 - val_loss: 0.3518 - val_f1_m: 0.5664\n",
      "Epoch 17/100\n",
      "219/219 [==============================] - 0s 2ms/step - loss: 0.3479 - f1_m: 0.5214 - val_loss: 0.3429 - val_f1_m: 0.5439\n",
      "Epoch 18/100\n",
      "219/219 [==============================] - 1s 3ms/step - loss: 0.3481 - f1_m: 0.5343 - val_loss: 0.3442 - val_f1_m: 0.5155\n",
      "Epoch 19/100\n",
      "219/219 [==============================] - 1s 3ms/step - loss: 0.3456 - f1_m: 0.5277 - val_loss: 0.3437 - val_f1_m: 0.5601\n",
      "Epoch 20/100\n",
      "219/219 [==============================] - 1s 2ms/step - loss: 0.3480 - f1_m: 0.5136 - val_loss: 0.3436 - val_f1_m: 0.5649\n",
      "Epoch 21/100\n",
      "219/219 [==============================] - 0s 2ms/step - loss: 0.3478 - f1_m: 0.5318 - val_loss: 0.3603 - val_f1_m: 0.5766\n",
      "Epoch 22/100\n",
      "219/219 [==============================] - 1s 2ms/step - loss: 0.3434 - f1_m: 0.5218 - val_loss: 0.3407 - val_f1_m: 0.5398\n",
      "Epoch 23/100\n",
      "219/219 [==============================] - 0s 2ms/step - loss: 0.3450 - f1_m: 0.5265 - val_loss: 0.3415 - val_f1_m: 0.5425\n",
      "Epoch 24/100\n",
      "219/219 [==============================] - 0s 2ms/step - loss: 0.3421 - f1_m: 0.5336 - val_loss: 0.3519 - val_f1_m: 0.5787\n",
      "Epoch 25/100\n",
      "219/219 [==============================] - 0s 2ms/step - loss: 0.3429 - f1_m: 0.5234 - val_loss: 0.3410 - val_f1_m: 0.5663\n",
      "Epoch 26/100\n",
      "219/219 [==============================] - 0s 2ms/step - loss: 0.3420 - f1_m: 0.5363 - val_loss: 0.3489 - val_f1_m: 0.5115\n",
      "Epoch 27/100\n",
      "219/219 [==============================] - 1s 2ms/step - loss: 0.3430 - f1_m: 0.5384 - val_loss: 0.3411 - val_f1_m: 0.5484\n",
      "Epoch 28/100\n",
      "219/219 [==============================] - 0s 2ms/step - loss: 0.3393 - f1_m: 0.5332 - val_loss: 0.3549 - val_f1_m: 0.4885\n",
      "Epoch 29/100\n",
      "219/219 [==============================] - 1s 2ms/step - loss: 0.3418 - f1_m: 0.5230 - val_loss: 0.3400 - val_f1_m: 0.5589\n",
      "Epoch 30/100\n",
      "219/219 [==============================] - 0s 2ms/step - loss: 0.3363 - f1_m: 0.5361 - val_loss: 0.3429 - val_f1_m: 0.5473\n",
      "Epoch 31/100\n",
      "219/219 [==============================] - 1s 2ms/step - loss: 0.3377 - f1_m: 0.5464 - val_loss: 0.3525 - val_f1_m: 0.5624\n",
      "Epoch 32/100\n",
      "219/219 [==============================] - 1s 2ms/step - loss: 0.3390 - f1_m: 0.5303 - val_loss: 0.3424 - val_f1_m: 0.5319\n",
      "Epoch 33/100\n",
      "219/219 [==============================] - 0s 2ms/step - loss: 0.3364 - f1_m: 0.5586 - val_loss: 0.3406 - val_f1_m: 0.5407\n",
      "Epoch 34/100\n",
      "219/219 [==============================] - 0s 2ms/step - loss: 0.3359 - f1_m: 0.5368 - val_loss: 0.3404 - val_f1_m: 0.5375\n",
      "Epoch 35/100\n",
      "219/219 [==============================] - 1s 3ms/step - loss: 0.3345 - f1_m: 0.5397 - val_loss: 0.3418 - val_f1_m: 0.5356\n",
      "Epoch 36/100\n",
      "219/219 [==============================] - 1s 2ms/step - loss: 0.3343 - f1_m: 0.5370 - val_loss: 0.3431 - val_f1_m: 0.5088\n",
      "Epoch 37/100\n",
      "219/219 [==============================] - 1s 2ms/step - loss: 0.3326 - f1_m: 0.5513 - val_loss: 0.3439 - val_f1_m: 0.5692\n",
      "Epoch 38/100\n",
      "219/219 [==============================] - 1s 3ms/step - loss: 0.3321 - f1_m: 0.5513 - val_loss: 0.3420 - val_f1_m: 0.5395\n",
      "Epoch 39/100\n",
      "219/219 [==============================] - 1s 3ms/step - loss: 0.3307 - f1_m: 0.5490 - val_loss: 0.3453 - val_f1_m: 0.5628\n",
      "Epoch 40/100\n",
      "219/219 [==============================] - 0s 2ms/step - loss: 0.3299 - f1_m: 0.5659 - val_loss: 0.3398 - val_f1_m: 0.5415\n",
      "Epoch 41/100\n",
      "219/219 [==============================] - 1s 2ms/step - loss: 0.3320 - f1_m: 0.5800 - val_loss: 0.3404 - val_f1_m: 0.5312\n",
      "Epoch 42/100\n",
      "219/219 [==============================] - 0s 2ms/step - loss: 0.3316 - f1_m: 0.5401 - val_loss: 0.3428 - val_f1_m: 0.5308\n",
      "Epoch 43/100\n",
      "219/219 [==============================] - 1s 2ms/step - loss: 0.3320 - f1_m: 0.5509 - val_loss: 0.3380 - val_f1_m: 0.5451\n",
      "Epoch 44/100\n",
      "219/219 [==============================] - 1s 2ms/step - loss: 0.3314 - f1_m: 0.5500 - val_loss: 0.3417 - val_f1_m: 0.5599\n",
      "Epoch 45/100\n",
      "219/219 [==============================] - 0s 2ms/step - loss: 0.3314 - f1_m: 0.5646 - val_loss: 0.3421 - val_f1_m: 0.5407\n",
      "Epoch 46/100\n",
      "219/219 [==============================] - 1s 3ms/step - loss: 0.3281 - f1_m: 0.5534 - val_loss: 0.3473 - val_f1_m: 0.4991\n",
      "Epoch 47/100\n",
      "219/219 [==============================] - 0s 2ms/step - loss: 0.3286 - f1_m: 0.5660 - val_loss: 0.3418 - val_f1_m: 0.5771\n",
      "Epoch 48/100\n",
      "219/219 [==============================] - 1s 3ms/step - loss: 0.3262 - f1_m: 0.5580 - val_loss: 0.3411 - val_f1_m: 0.5561\n",
      "Epoch 49/100\n",
      "219/219 [==============================] - 0s 2ms/step - loss: 0.3257 - f1_m: 0.5720 - val_loss: 0.3392 - val_f1_m: 0.5666\n",
      "Epoch 50/100\n",
      "219/219 [==============================] - 1s 2ms/step - loss: 0.3271 - f1_m: 0.5705 - val_loss: 0.3472 - val_f1_m: 0.5984\n",
      "Epoch 51/100\n",
      "219/219 [==============================] - 0s 2ms/step - loss: 0.3282 - f1_m: 0.5362 - val_loss: 0.3396 - val_f1_m: 0.5768\n",
      "Epoch 52/100\n",
      "219/219 [==============================] - 1s 2ms/step - loss: 0.3257 - f1_m: 0.5607 - val_loss: 0.3447 - val_f1_m: 0.5513\n",
      "Epoch 53/100\n",
      "219/219 [==============================] - 1s 2ms/step - loss: 0.3246 - f1_m: 0.5707 - val_loss: 0.3417 - val_f1_m: 0.5641\n",
      "Epoch 54/100\n",
      "219/219 [==============================] - 1s 3ms/step - loss: 0.3258 - f1_m: 0.5661 - val_loss: 0.3423 - val_f1_m: 0.5736\n",
      "Epoch 55/100\n",
      "219/219 [==============================] - 1s 2ms/step - loss: 0.3241 - f1_m: 0.5733 - val_loss: 0.3418 - val_f1_m: 0.5587\n",
      "Epoch 56/100\n",
      "219/219 [==============================] - 0s 2ms/step - loss: 0.3213 - f1_m: 0.5672 - val_loss: 0.3438 - val_f1_m: 0.5799\n",
      "Epoch 57/100\n",
      "219/219 [==============================] - 0s 2ms/step - loss: 0.3219 - f1_m: 0.5940 - val_loss: 0.3418 - val_f1_m: 0.5612\n",
      "Epoch 58/100\n",
      "219/219 [==============================] - 0s 2ms/step - loss: 0.3234 - f1_m: 0.5710 - val_loss: 0.3415 - val_f1_m: 0.5710\n",
      "Epoch 59/100\n",
      "219/219 [==============================] - 1s 3ms/step - loss: 0.3236 - f1_m: 0.5770 - val_loss: 0.3440 - val_f1_m: 0.5844\n",
      "Epoch 60/100\n",
      "219/219 [==============================] - 1s 2ms/step - loss: 0.3206 - f1_m: 0.5654 - val_loss: 0.3459 - val_f1_m: 0.5551\n",
      "Epoch 61/100\n",
      "219/219 [==============================] - 1s 3ms/step - loss: 0.3199 - f1_m: 0.5881 - val_loss: 0.3410 - val_f1_m: 0.5630\n",
      "Epoch 62/100\n",
      "219/219 [==============================] - 1s 2ms/step - loss: 0.3184 - f1_m: 0.5924 - val_loss: 0.3433 - val_f1_m: 0.5364\n",
      "Epoch 63/100\n",
      "219/219 [==============================] - 1s 3ms/step - loss: 0.3207 - f1_m: 0.5732 - val_loss: 0.3428 - val_f1_m: 0.5796\n",
      "Epoch 64/100\n",
      "219/219 [==============================] - 1s 2ms/step - loss: 0.3211 - f1_m: 0.5686 - val_loss: 0.3452 - val_f1_m: 0.5318\n",
      "Epoch 65/100\n",
      "219/219 [==============================] - 1s 3ms/step - loss: 0.3184 - f1_m: 0.5807 - val_loss: 0.3462 - val_f1_m: 0.5856\n",
      "Epoch 66/100\n",
      "219/219 [==============================] - 1s 2ms/step - loss: 0.3184 - f1_m: 0.5693 - val_loss: 0.3472 - val_f1_m: 0.5407\n",
      "Epoch 67/100\n",
      "219/219 [==============================] - 1s 3ms/step - loss: 0.3187 - f1_m: 0.5642 - val_loss: 0.3423 - val_f1_m: 0.5660\n",
      "Epoch 68/100\n",
      "219/219 [==============================] - 1s 3ms/step - loss: 0.3193 - f1_m: 0.5667 - val_loss: 0.3426 - val_f1_m: 0.5583\n",
      "Epoch 69/100\n",
      "219/219 [==============================] - 0s 2ms/step - loss: 0.3179 - f1_m: 0.5872 - val_loss: 0.3548 - val_f1_m: 0.5194\n",
      "Epoch 70/100\n",
      "219/219 [==============================] - 1s 2ms/step - loss: 0.3174 - f1_m: 0.5754 - val_loss: 0.3451 - val_f1_m: 0.5456\n",
      "Epoch 71/100\n",
      "219/219 [==============================] - 0s 2ms/step - loss: 0.3155 - f1_m: 0.5796 - val_loss: 0.3442 - val_f1_m: 0.5650\n",
      "Epoch 72/100\n",
      "219/219 [==============================] - 1s 2ms/step - loss: 0.3172 - f1_m: 0.5785 - val_loss: 0.3431 - val_f1_m: 0.5613\n",
      "Epoch 73/100\n",
      "219/219 [==============================] - 1s 3ms/step - loss: 0.3128 - f1_m: 0.5940 - val_loss: 0.3456 - val_f1_m: 0.5340\n",
      "Epoch 74/100\n",
      "219/219 [==============================] - 1s 3ms/step - loss: 0.3155 - f1_m: 0.5903 - val_loss: 0.3445 - val_f1_m: 0.5480\n",
      "Epoch 75/100\n",
      "219/219 [==============================] - 1s 3ms/step - loss: 0.3170 - f1_m: 0.5768 - val_loss: 0.3449 - val_f1_m: 0.5743\n",
      "Epoch 76/100\n",
      "219/219 [==============================] - 1s 3ms/step - loss: 0.3107 - f1_m: 0.5777 - val_loss: 0.3467 - val_f1_m: 0.5824\n",
      "Epoch 77/100\n",
      "219/219 [==============================] - 1s 2ms/step - loss: 0.3134 - f1_m: 0.5689 - val_loss: 0.3467 - val_f1_m: 0.5890\n",
      "Epoch 78/100\n",
      "219/219 [==============================] - 1s 2ms/step - loss: 0.3110 - f1_m: 0.5965 - val_loss: 0.3610 - val_f1_m: 0.5168\n",
      "Epoch 79/100\n",
      "219/219 [==============================] - 1s 3ms/step - loss: 0.3140 - f1_m: 0.5835 - val_loss: 0.3485 - val_f1_m: 0.5433\n",
      "Epoch 80/100\n",
      "219/219 [==============================] - 0s 2ms/step - loss: 0.3141 - f1_m: 0.5744 - val_loss: 0.3495 - val_f1_m: 0.5565\n",
      "Epoch 81/100\n",
      "219/219 [==============================] - 0s 2ms/step - loss: 0.3110 - f1_m: 0.5859 - val_loss: 0.3452 - val_f1_m: 0.5656\n",
      "Epoch 82/100\n",
      "219/219 [==============================] - 1s 3ms/step - loss: 0.3107 - f1_m: 0.5985 - val_loss: 0.3444 - val_f1_m: 0.5416\n",
      "Epoch 83/100\n",
      "219/219 [==============================] - 0s 2ms/step - loss: 0.3100 - f1_m: 0.5911 - val_loss: 0.3507 - val_f1_m: 0.5311\n",
      "Epoch 84/100\n",
      "219/219 [==============================] - 1s 2ms/step - loss: 0.3110 - f1_m: 0.5950 - val_loss: 0.3485 - val_f1_m: 0.5623\n",
      "Epoch 85/100\n",
      "219/219 [==============================] - 0s 2ms/step - loss: 0.3109 - f1_m: 0.5770 - val_loss: 0.3486 - val_f1_m: 0.5759\n",
      "Epoch 86/100\n",
      "219/219 [==============================] - 0s 2ms/step - loss: 0.3094 - f1_m: 0.5899 - val_loss: 0.3459 - val_f1_m: 0.5779\n",
      "Epoch 87/100\n",
      "219/219 [==============================] - 1s 2ms/step - loss: 0.3082 - f1_m: 0.6032 - val_loss: 0.3495 - val_f1_m: 0.5621\n",
      "Epoch 88/100\n",
      "219/219 [==============================] - 1s 2ms/step - loss: 0.3110 - f1_m: 0.6000 - val_loss: 0.3516 - val_f1_m: 0.5588\n",
      "Epoch 89/100\n",
      "219/219 [==============================] - 0s 2ms/step - loss: 0.3094 - f1_m: 0.5925 - val_loss: 0.3474 - val_f1_m: 0.5618\n",
      "Epoch 90/100\n",
      "219/219 [==============================] - 0s 2ms/step - loss: 0.3089 - f1_m: 0.6070 - val_loss: 0.3532 - val_f1_m: 0.5208\n",
      "Epoch 91/100\n",
      "219/219 [==============================] - 1s 2ms/step - loss: 0.3070 - f1_m: 0.5902 - val_loss: 0.3552 - val_f1_m: 0.5931\n",
      "Epoch 92/100\n",
      "219/219 [==============================] - 1s 2ms/step - loss: 0.3115 - f1_m: 0.5822 - val_loss: 0.3545 - val_f1_m: 0.5448\n",
      "Epoch 93/100\n",
      "219/219 [==============================] - 1s 3ms/step - loss: 0.3112 - f1_m: 0.5845 - val_loss: 0.3508 - val_f1_m: 0.5435\n",
      "Epoch 94/100\n",
      "219/219 [==============================] - 0s 2ms/step - loss: 0.3090 - f1_m: 0.5952 - val_loss: 0.3516 - val_f1_m: 0.5500\n",
      "Epoch 95/100\n",
      "219/219 [==============================] - 1s 3ms/step - loss: 0.3064 - f1_m: 0.5816 - val_loss: 0.3550 - val_f1_m: 0.5655\n",
      "Epoch 96/100\n",
      "219/219 [==============================] - 1s 2ms/step - loss: 0.3087 - f1_m: 0.6074 - val_loss: 0.3515 - val_f1_m: 0.5735\n",
      "Epoch 97/100\n",
      "219/219 [==============================] - 1s 2ms/step - loss: 0.3079 - f1_m: 0.5905 - val_loss: 0.3489 - val_f1_m: 0.5705\n",
      "Epoch 98/100\n",
      "219/219 [==============================] - 1s 2ms/step - loss: 0.3070 - f1_m: 0.6051 - val_loss: 0.3512 - val_f1_m: 0.5436\n",
      "Epoch 99/100\n",
      "219/219 [==============================] - 1s 2ms/step - loss: 0.3071 - f1_m: 0.5983 - val_loss: 0.3478 - val_f1_m: 0.5622\n",
      "Epoch 100/100\n",
      "219/219 [==============================] - 1s 2ms/step - loss: 0.3033 - f1_m: 0.5925 - val_loss: 0.3503 - val_f1_m: 0.5718\n"
     ]
    }
   ],
   "source": [
    "model4 = Sequential()\n",
    "model4.add(Dense(50,activation = 'relu',input_dim = 11))\n",
    "model4.add(Dense(25,activation = 'relu'))\n",
    "model4.add(Dropout(0.1))\n",
    "model4.add(Dense(10,activation = 'relu'))\n",
    "model4.add(Dense(1,activation = 'sigmoid'))\n",
    "\n",
    "model4.compile(loss='binary_crossentropy', optimizer='adam', metrics=[f1_m])\n",
    "history4 = model4.fit(X_train,y_train,validation_data = (X_test,y_test),epochs = 100)"
   ]
  },
  {
   "cell_type": "code",
   "execution_count": null,
   "metadata": {
    "colab": {
     "base_uri": "https://localhost:8080/",
     "height": 265
    },
    "id": "3Qq41RoxApGR",
    "outputId": "f4e9c776-e588-4f05-a4bf-0f8d4f010d48"
   },
   "outputs": [
    {
     "data": {
      "image/png": "[encoded data removed]",
      "text/plain": [
       "<Figure size 432x288 with 1 Axes>"
      ]
     },
     "metadata": {
      "needs_background": "light",
      "tags": []
     },
     "output_type": "display_data"
    }
   ],
   "source": [
    "plt.plot(history4.history['loss'])\n",
    "plt.plot(history4.history['f1_m'])\n",
    "plt.plot(history4.history['val_loss'])\n",
    "plt.plot(history4.history['val_f1_m'])\n",
    "plt.legend(['loss','f1_m',\"val_loss\",'val_f1_m'])\n",
    "plt.show()"
   ]
  },
  {
   "cell_type": "code",
   "execution_count": null,
   "metadata": {
    "id": "7kiZDGaVBinM"
   },
   "outputs": [],
   "source": [
    "model4.save('model4.h5')"
   ]
  },
  {
   "cell_type": "code",
   "execution_count": null,
   "metadata": {
    "id": "aYktA8TaIYdE"
   },
   "outputs": [],
   "source": [
    "dependencies = {\n",
    "    'f1_m': f1_m\n",
    "}\n"
   ]
  },
  {
   "cell_type": "code",
   "execution_count": null,
   "metadata": {
    "id": "cGighNVOBvJZ"
   },
   "outputs": [],
   "source": [
    "# load models from file\n",
    "def load_all_models(n_models):\n",
    "    all_models = list()\n",
    "    for i in range(n_models):\n",
    "        # define filename for this ensemble\n",
    "        filename = '/content/model' + str(i + 1) + '.h5'\n",
    "        # load model from file\n",
    "        model = load_model(filename,custom_objects=dependencies)\n",
    "        # add to list of members\n",
    "        all_models.append(model)\n",
    "        print('>loaded %s' % filename)\n",
    "    return all_models"
   ]
  },
  {
   "cell_type": "code",
   "execution_count": null,
   "metadata": {
    "colab": {
     "base_uri": "https://localhost:8080/"
    },
    "id": "r5KRPy2_EZrn",
    "outputId": "bc7bc008-d480-4edf-f6d8-ba1dfdfecdb8"
   },
   "outputs": [
    {
     "name": "stdout",
     "output_type": "stream",
     "text": [
      ">loaded /content/model1.h5\n",
      ">loaded /content/model2.h5\n",
      ">loaded /content/model3.h5\n",
      ">loaded /content/model4.h5\n",
      "Loaded 4 models\n"
     ]
    }
   ],
   "source": [
    "n_members = 4\n",
    "members = load_all_models(n_members)\n",
    "print('Loaded %d models' % len(members))"
   ]
  },
  {
   "cell_type": "code",
   "execution_count": null,
   "metadata": {
    "id": "9NAaaGyZEm_l"
   },
   "outputs": [],
   "source": [
    "\n",
    "# create stacked model input dataset as outputs from the ensemble\n",
    "def stacked_dataset(members, inputX):\n",
    "    stackX = None\n",
    "    for model in members:\n",
    "        # make prediction\n",
    "        yhat = model.predict(inputX, verbose=0)\n",
    "        # stack predictions into [rows, members, probabilities]\n",
    "        if stackX is None:\n",
    "            stackX = yhat #\n",
    "        else:\n",
    "            stackX = dstack((stackX, yhat))\n",
    "    # flatten predictions to [rows, members x probabilities]\n",
    "    stackX = stackX.reshape((stackX.shape[0], stackX.shape[1]*stackX.shape[2]))\n",
    "    return stackX"
   ]
  },
  {
   "cell_type": "code",
   "execution_count": null,
   "metadata": {
    "id": "tL_U6snsJZkK"
   },
   "outputs": [],
   "source": [
    "\n",
    "# fit a model based on the outputs from the ensemble members\n",
    "def fit_stacked_model(members, inputX, inputy):\n",
    "    # create dataset using ensemble\n",
    "    stackedX = stacked_dataset(members, inputX)\n",
    "    # fit standalone model\n",
    "    model = LogisticRegression() #meta learner\n",
    "    model.fit(stackedX, inputy)\n",
    "    return model"
   ]
  },
  {
   "cell_type": "code",
   "execution_count": null,
   "metadata": {
    "id": "eMOs3pOIJf_3"
   },
   "outputs": [],
   "source": [
    "model = fit_stacked_model(members, X_test,y_test)"
   ]
  },
  {
   "cell_type": "code",
   "execution_count": null,
   "metadata": {
    "id": "kD_rWEU7KzAh"
   },
   "outputs": [],
   "source": [
    "\n",
    "# make a prediction with the stacked model\n",
    "def stacked_prediction(members, model, inputX):\n",
    "    # create dataset using ensemble\n",
    "    stackedX = stacked_dataset(members, inputX)\n",
    "    # make a prediction\n",
    "    yhat = model.predict(stackedX)\n",
    "    return yhat"
   ]
  },
  {
   "cell_type": "code",
   "execution_count": null,
   "metadata": {
    "colab": {
     "base_uri": "https://localhost:8080/"
    },
    "id": "iyoBj6GVNpTc",
    "outputId": "d28b3b92-3c2f-4b0e-ed7c-07bc6ab9cb7b"
   },
   "outputs": [
    {
     "name": "stdout",
     "output_type": "stream",
     "text": [
      "Stacked F Score: tf.Tensor(0.6007751457920235, shape=(), dtype=float64)\n"
     ]
    }
   ],
   "source": [
    "\n",
    "# evaluate model on test set\n",
    "yhat = stacked_prediction(members, model, X_test)\n",
    "score = f1_m(y_test/1.0, yhat/1.0)\n",
    "print('Stacked F Score:', score)"
   ]
  },
  {
   "cell_type": "code",
   "execution_count": null,
   "metadata": {
    "id": "_yn5230cY2bF"
   },
   "outputs": [],
   "source": [
    "from sklearn.metrics import f1_score"
   ]
  },
  {
   "cell_type": "code",
   "execution_count": null,
   "metadata": {
    "colab": {
     "base_uri": "https://localhost:8080/"
    },
    "id": "B1AbppphPb4P",
    "outputId": "230553f0-88f0-4520-a25b-d080d2529ea4"
   },
   "outputs": [
    {
     "name": "stderr",
     "output_type": "stream",
     "text": [
      "/usr/local/lib/python3.7/dist-packages/tensorflow/python/keras/engine/sequential.py:455: UserWarning: `model.predict_classes()` is deprecated and will be removed after 2021-01-01. Please use instead:* `np.argmax(model.predict(x), axis=-1)`,   if your model does multi-class classification   (e.g. if it uses a `softmax` last-layer activation).* `(model.predict(x) > 0.5).astype(\"int32\")`,   if your model does binary classification   (e.g. if it uses a `sigmoid` last-layer activation).\n",
      "  warnings.warn('`model.predict_classes()` is deprecated and '\n",
      "/usr/local/lib/python3.7/dist-packages/tensorflow/python/keras/engine/sequential.py:455: UserWarning: `model.predict_classes()` is deprecated and will be removed after 2021-01-01. Please use instead:* `np.argmax(model.predict(x), axis=-1)`,   if your model does multi-class classification   (e.g. if it uses a `softmax` last-layer activation).* `(model.predict(x) > 0.5).astype(\"int32\")`,   if your model does binary classification   (e.g. if it uses a `sigmoid` last-layer activation).\n",
      "  warnings.warn('`model.predict_classes()` is deprecated and '\n"
     ]
    },
    {
     "name": "stdout",
     "output_type": "stream",
     "text": [
      "F-Score of model 1 is  0.5901328273244781\n",
      "F-Score of model 2 is  0.5849802371541502\n"
     ]
    },
    {
     "name": "stderr",
     "output_type": "stream",
     "text": [
      "/usr/local/lib/python3.7/dist-packages/tensorflow/python/keras/engine/sequential.py:455: UserWarning: `model.predict_classes()` is deprecated and will be removed after 2021-01-01. Please use instead:* `np.argmax(model.predict(x), axis=-1)`,   if your model does multi-class classification   (e.g. if it uses a `softmax` last-layer activation).* `(model.predict(x) > 0.5).astype(\"int32\")`,   if your model does binary classification   (e.g. if it uses a `sigmoid` last-layer activation).\n",
      "  warnings.warn('`model.predict_classes()` is deprecated and '\n"
     ]
    },
    {
     "name": "stdout",
     "output_type": "stream",
     "text": [
      "F-Score of model 3 is  0.5935483870967743\n"
     ]
    },
    {
     "name": "stderr",
     "output_type": "stream",
     "text": [
      "/usr/local/lib/python3.7/dist-packages/tensorflow/python/keras/engine/sequential.py:455: UserWarning: `model.predict_classes()` is deprecated and will be removed after 2021-01-01. Please use instead:* `np.argmax(model.predict(x), axis=-1)`,   if your model does multi-class classification   (e.g. if it uses a `softmax` last-layer activation).* `(model.predict(x) > 0.5).astype(\"int32\")`,   if your model does binary classification   (e.g. if it uses a `sigmoid` last-layer activation).\n",
      "  warnings.warn('`model.predict_classes()` is deprecated and '\n"
     ]
    },
    {
     "name": "stdout",
     "output_type": "stream",
     "text": [
      "F-Score of model 4 is  0.5987144168962351\n"
     ]
    }
   ],
   "source": [
    "i = 0\n",
    "for model in members:\n",
    "    i+=1\n",
    "    pred = model.predict_classes(X_test)\n",
    "    score = f1_score(y_test,pred)\n",
    "    print('F-Score of model {} is '.format(i),score)"
   ]
  },
  {
   "cell_type": "markdown",
   "metadata": {
    "id": "xY8SIzs1jCfD"
   },
   "source": [
    "# Stacked Model give f1 score of 0.6007 which is higher than any other model taken alone."
   ]
  },
  {
   "cell_type": "code",
   "execution_count": null,
   "metadata": {
    "id": "vS-c2wd1SOgN"
   },
   "outputs": [],
   "source": []
  }
 ],
 "metadata": {
  "colab": {
   "authorship_tag": "ABX9TyNgup4kIaXFKd/8Ilgutcyi",
   "collapsed_sections": [],
   "include_colab_link": true,
   "name": "Ensemble Stacking in Neural Networks.ipynb",
   "provenance": []
  },
  "kernelspec": {
   "display_name": "Python 3 (ipykernel)",
   "language": "python",
   "name": "python3"
  },
  "language_info": {
   "codemirror_mode": {
    "name": "ipython",
    "version": 3
   },
   "file_extension": ".py",
   "mimetype": "text/x-python",
   "name": "python",
   "nbconvert_exporter": "python",
   "pygments_lexer": "ipython3",
   "version": "3.9.13"
  }
 },
 "nbformat": 4,
 "nbformat_minor": 1
}
